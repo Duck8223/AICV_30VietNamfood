{
  "cells": [
    {
      "cell_type": "code",
      "execution_count": null,
      "metadata": {
        "id": "7fySQ-xR0UQl"
      },
      "outputs": [],
      "source": [
        "# import tensorflow as tf\n",
        "# import matplotlib.pyplot as plt\n",
        "# import h5py\n",
        "\n",
        "# tf.get_logger().setLevel('ERROR')\n",
        "# !curl -s https://raw.githubusercontent.com/sivel/speedtest-cli/master/speedtest.py | python -"
      ]
    },
    {
      "cell_type": "markdown",
      "metadata": {
        "id": "ctWb-L9j3yWg"
      },
      "source": [
        "# Import dataset"
      ]
    },
    {
      "cell_type": "code",
      "execution_count": null,
      "metadata": {
        "colab": {
          "base_uri": "https://localhost:8080/"
        },
        "id": "nj0pXbq3_3tz",
        "outputId": "a6f126aa-4482-4997-a542-636ad6b80d9a"
      },
      "outputs": [
        {
          "name": "stdout",
          "output_type": "stream",
          "text": [
            "Mounted at /content/drive\n"
          ]
        }
      ],
      "source": [
        "# from google.colab import drive\n",
        "# drive.mount('/content/drive')"
      ]
    },
    {
      "cell_type": "code",
      "execution_count": null,
      "metadata": {
        "id": "9ckbbiM3BY3I"
      },
      "outputs": [],
      "source": [
        "import os\n",
        "import tensorflow as tf\n",
        "import matplotlib.pyplot as plt\n",
        "import h5py\n",
        "from tensorflow.keras.preprocessing.image import ImageDataGenerator\n",
        "from tensorflow.keras.applications.densenet import DenseNet201\n",
        "from tensorflow.keras.layers import GlobalAveragePooling2D, Dense, Dropout, Input,MaxPooling2D, LeakyReLU\n",
        "from tensorflow.keras.models import Model\n",
        "from tensorflow.keras.callbacks import EarlyStopping, ModelCheckpoint,ReduceLROnPlateau"
      ]
    },
    {
      "cell_type": "code",
      "execution_count": null,
      "metadata": {
        "colab": {
          "base_uri": "https://localhost:8080/"
        },
        "id": "WatJhyRp3yWg",
        "outputId": "0f29371e-ac0b-4af7-fdf0-8e13b8b4e675"
      },
      "outputs": [],
      "source": [
        "path = '/content/drive/MyDrive'\n",
        "os.chdir(path)\n"
      ]
    },
    {
      "cell_type": "code",
      "execution_count": null,
      "metadata": {
        "id": "Hu5djSU43yWg"
      },
      "outputs": [],
      "source": [
        "# Move dataset to /tmp cause reading files from Drive is very slow\n",
        "!cp vietnamese-foods.zip /tmp\n",
        "!unzip -q /tmp/vietnamese-foods.zip -d /tmp"
      ]
    },
    {
      "cell_type": "markdown",
      "metadata": {
        "id": "8PbvhOfb6x6o"
      },
      "source": [
        "# Setup path"
      ]
    },
    {
      "cell_type": "code",
      "execution_count": null,
      "metadata": {
        "id": "TBs9QVym6zYz"
      },
      "outputs": [],
      "source": [
        "TRAIN_PATH = '/tmp/Images/Train'\n",
        "VALIDATE_PATH = '/tmp/Images/Validate'\n",
        "TEST_PATH = '/tmp/Images/Test'"
      ]
    },
    {
      "cell_type": "code",
      "execution_count": null,
      "metadata": {
        "id": "K_g6h0OW60X_"
      },
      "outputs": [],
      "source": [
        "PATH = '/content/drive/MyDrive/kqcv'\n",
        "\n",
        "BASE_MODEL_BEST = os.path.join(PATH, 'duc8245kc_DenseNet201_best.hdf5')\n",
        "BASE_MODEL_TRAINED = os.path.join(PATH, 'duc8245kc4_DenseNet201.hdf5')\n",
        "Weight_MODEL_TRAINED = os.path.join(PATH, 'duc8245kc4_DenseNet201_weight.hdf5')\n",
        "BASE_MODEL_FIG = os.path.join(PATH, 'duc8245kc4_DenseNet201_fig.jpg')"
      ]
    },
    {
      "cell_type": "markdown",
      "metadata": {
        "id": "Dt8mtwjLlFii"
      },
      "source": [
        "# Preparing data"
      ]
    },
    {
      "cell_type": "code",
      "execution_count": null,
      "metadata": {
        "id": "YrUH6HT06_N7"
      },
      "outputs": [],
      "source": [
        "IMAGE_SIZE = (300, 300)\n",
        "BATCH_SIZE = 64"
      ]
    },
    {
      "cell_type": "code",
      "execution_count": null,
      "metadata": {
        "id": "_-_wF6-g7AnR"
      },
      "outputs": [],
      "source": [
        "train_generator = ImageDataGenerator(\n",
        "    rescale = 1./255,\n",
        "    rotation_range = 20,\n",
        "    # width_shift_range = 0.1,\n",
        "    # height_shift_range = 0.1,\n",
        "    shear_range = 0.1,\n",
        "    zoom_range = 0.2,\n",
        "    horizontal_flip = True\n",
        ")\n",
        "validate_generator = ImageDataGenerator(rescale=1./255)\n",
        "test_generator = ImageDataGenerator(rescale=1./255)"
      ]
    },
    {
      "cell_type": "code",
      "execution_count": null,
      "metadata": {
        "id": "opfyTGQAb-wE"
      },
      "outputs": [],
      "source": [
        "generated_train_data = train_generator.flow_from_directory(TRAIN_PATH, target_size=IMAGE_SIZE, batch_size=BATCH_SIZE)\n",
        "generated_validate_data = validate_generator.flow_from_directory(VALIDATE_PATH, target_size=IMAGE_SIZE, batch_size=BATCH_SIZE)\n",
        "generated_test_data = test_generator.flow_from_directory(TEST_PATH, target_size=IMAGE_SIZE)"
      ]
    },
    {
      "cell_type": "markdown",
      "metadata": {
        "id": "AnHKGG76uu67"
      },
      "source": [
        "# Model implement"
      ]
    },
    {
      "cell_type": "code",
      "execution_count": null,
      "metadata": {
        "id": "LJNzUVxP7BvF"
      },
      "outputs": [],
      "source": [
        "CLASSES = 30\n",
        "INITIAL_EPOCHS = 9"
      ]
    },
    {
      "cell_type": "markdown",
      "metadata": {
        "id": "fjn_OsMvxoMj"
      },
      "source": [
        "## Define the model"
      ]
    },
    {
      "cell_type": "code",
      "execution_count": null,
      "metadata": {
        "id": "Rsunp70veV2j"
      },
      "outputs": [],
      "source": [
        "input_layer = Input(shape=(300, 300, 3))\n",
        "pretrained_model = DenseNet201(weights='imagenet', include_top=False, input_tensor=input_layer)\n",
        "last_output = pretrained_model.output\n",
        "\n",
        "x = GlobalAveragePooling2D()(last_output)\n",
        "x = Dense(1024, activation='relu')(x)\n",
        "x = Dropout(0.2)(x)\n",
        "x = Dense(512, activation='relu')(x)\n",
        "x = Dropout(0.2)(x)\n",
        "\n",
        "\n",
        "outputs = Dense(CLASSES, activation='softmax')(x)\n",
        "model = Model(inputs=pretrained_model.input, outputs=outputs)"
      ]
    },
    {
      "cell_type": "markdown",
      "metadata": {
        "id": "02WLrrF1xqb4"
      },
      "source": [
        "## Callbacks"
      ]
    },
    {
      "cell_type": "code",
      "execution_count": null,
      "metadata": {
        "id": "db8Tg97jrVqP"
      },
      "outputs": [],
      "source": [
        "base_checkpointer = ModelCheckpoint(\n",
        "    filepath = BASE_MODEL_BEST,\n",
        "    save_best_only = True,\n",
        "    verbose = 1\n",
        ")\n",
        "\n",
        "\n",
        "# Stop if no improvement after 2 epochs\n",
        "early_stopping = EarlyStopping(monitor='val_loss', patience=2, verbose=1)\n",
        "relu_cb= ReduceLROnPlateau(monitor='val_loss', factor=0.2, patience=1, min_lr=0.0001)"
      ]
    },
    {
      "cell_type": "markdown",
      "metadata": {
        "id": "Hb6-rA95mdCh"
      },
      "source": [
        "## Stage 1: Transfer learning"
      ]
    },
    {
      "cell_type": "code",
      "execution_count": null,
      "metadata": {
        "id": "7f7ri9GgvqSC"
      },
      "outputs": [],
      "source": [
        "for layer in pretrained_model.layers: layer.trainable = False\n",
        "model.compile(optimizer='Adam', loss='categorical_crossentropy', metrics=['accuracy'])"
      ]
    },
    {
      "cell_type": "code",
      "execution_count": null,
      "metadata": {
        "id": "tumbgjkn7Eaq"
      },
      "outputs": [],
      "source": [
        "history = model.fit(\n",
        "    generated_train_data,\n",
        "    validation_data = generated_validate_data,\n",
        "    validation_steps = generated_validate_data.n // BATCH_SIZE,\n",
        "    steps_per_epoch = generated_train_data.n // BATCH_SIZE,\n",
        "    callbacks = [base_checkpointer, early_stopping, relu_cb],\n",
        "    epochs = INITIAL_EPOCHS,\n",
        "    verbose = 1,\n",
        ")\n",
        "model.save(BASE_MODEL_TRAINED)\n",
        "model.save_weights(Weight_MODEL_TRAINED)"
      ]
    },
    {
      "cell_type": "code",
      "execution_count": null,
      "metadata": {
        "id": "TvnLcjhAMt4m"
      },
      "outputs": [],
      "source": [
        "acc = history.history['accuracy']\n",
        "loss = history.history['loss']\n",
        "val_acc = history.history['val_accuracy']\n",
        "val_loss = history.history['val_loss']"
      ]
    },
    {
      "cell_type": "code",
      "execution_count": null,
      "metadata": {
        "id": "OIsHwHVk3yWm"
      },
      "outputs": [],
      "source": [
        "plt.figure(figsize=(20, 5))\n",
        "plt.subplot(1, 2, 1)\n",
        "plt.plot(acc, label='Training Accuracy')\n",
        "plt.plot(val_acc, label='Validation Accuracy')\n",
        "plt.legend(loc='lower right')\n",
        "plt.ylabel('Accuracy')\n",
        "plt.ylim([min(plt.ylim()), 1])\n",
        "plt.title('Training and Validation Accuracy')\n",
        "\n",
        "plt.subplot(1, 2, 2)\n",
        "plt.plot(loss, label='Training Loss')\n",
        "plt.plot(val_loss, label='Validation Loss')\n",
        "plt.legend(loc='upper right')\n",
        "plt.ylabel('Cross Entropy')\n",
        "plt.ylim([min(plt.ylim()), max(plt.ylim())])\n",
        "plt.title('Training and Validation Loss')\n",
        "plt.xlabel('epoch')\n",
        "plt.savefig(BASE_MODEL_FIG)\n",
        "plt.show()"
      ]
    },
    {
      "cell_type": "markdown",
      "metadata": {
        "id": "o__Nz-Wbl1jW"
      },
      "source": [
        "# Evaluation"
      ]
    },
    {
      "cell_type": "code",
      "execution_count": null,
      "metadata": {
        "id": "obJpFrio7Nye"
      },
      "outputs": [],
      "source": [
        "loss, accuracy = model.evaluate(generated_test_data)\n",
        "print('Test accuracy:', accuracy)"
      ]
    }
  ],
  "metadata": {
    "accelerator": "GPU",
    "colab": {
      "machine_shape": "hm",
      "provenance": []
    },
    "kernelspec": {
      "display_name": "Python 3",
      "language": "python",
      "name": "python3"
    },
    "language_info": {
      "codemirror_mode": {
        "name": "ipython",
        "version": 3
      },
      "file_extension": ".py",
      "mimetype": "text/x-python",
      "name": "python",
      "nbconvert_exporter": "python",
      "pygments_lexer": "ipython3",
      "version": "3.8.10"
    },
    "toc": {
      "base_numbering": 1,
      "nav_menu": {},
      "number_sections": true,
      "sideBar": true,
      "skip_h1_title": false,
      "title_cell": "Table of Contents",
      "title_sidebar": "Contents",
      "toc_cell": false,
      "toc_position": {},
      "toc_section_display": true,
      "toc_window_display": false
    }
  },
  "nbformat": 4,
  "nbformat_minor": 0
}
