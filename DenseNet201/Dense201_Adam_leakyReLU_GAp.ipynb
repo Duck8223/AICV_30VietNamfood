{
  "cells": [
    {
      "cell_type": "code",
      "execution_count": null,
      "metadata": {
        "id": "7fySQ-xR0UQl"
      },
      "outputs": [],
      "source": [
        "# import tensorflow as tf\n",
        "# import matplotlib.pyplot as plt\n",
        "# import h5py\n",
        "\n",
        "# tf.get_logger().setLevel('ERROR')\n",
        "# !curl -s https://raw.githubusercontent.com/sivel/speedtest-cli/master/speedtest.py | python -"
      ]
    },
    {
      "cell_type": "markdown",
      "metadata": {
        "id": "ctWb-L9j3yWg"
      },
      "source": [
        "# Import dataset"
      ]
    },
    {
      "cell_type": "code",
      "source": [
        "from google.colab import drive\n",
        "drive.mount('/content/drive')"
      ],
      "metadata": {
        "colab": {
          "base_uri": "https://localhost:8080/"
        },
        "id": "nj0pXbq3_3tz",
        "outputId": "a6f126aa-4482-4997-a542-636ad6b80d9a"
      },
      "execution_count": null,
      "outputs": [
        {
          "output_type": "stream",
          "name": "stdout",
          "text": [
            "Mounted at /content/drive\n"
          ]
        }
      ]
    },
    {
      "cell_type": "code",
      "source": [
        "import tensorflow as tf\n",
        "import matplotlib.pyplot as plt\n",
        "import h5py"
      ],
      "metadata": {
        "id": "9ckbbiM3BY3I"
      },
      "execution_count": null,
      "outputs": []
    },
    {
      "cell_type": "code",
      "execution_count": null,
      "metadata": {
        "id": "WatJhyRp3yWg",
        "colab": {
          "base_uri": "https://localhost:8080/"
        },
        "outputId": "0f29371e-ac0b-4af7-fdf0-8e13b8b4e675"
      },
      "outputs": [
        {
          "output_type": "stream",
          "name": "stdout",
          "text": [
            " 15_HuynhPhuocDuc_PDRL.gdoc\n",
            "'15 PDRL 21022015 Huỳnh Phước Đức.gdoc'\n",
            " 1QLHS.gsheet\n",
            " 20200426_BDHS_VaT_Ly_11_ttkoanh117gmail.com.gsheet\n",
            "'21022015_HuynhPhuocDuc (1).gdoc'\n",
            " 21022015_HuynhPhuocDuc.gdoc\n",
            " 21022015_HuynhPhuocDuc.rar\n",
            "'bài dự thi đại sứ văn hóa đọc.docx'\n",
            "'bài dự thi đại sứ văn hóa đọc.gdoc'\n",
            "'Bài viết về chủ đề anime manga1.docx'\n",
            "'Bài viết về chủ đề anime manga.docx'\n",
            "'Bảng tính chưa có tiêu đề (1).gsheet'\n",
            "'Bảng tính chưa có tiêu đề.gsheet'\n",
            "'Bản trình bày không có tiêu đề (1).gslides'\n",
            "'Bản trình bày không có tiêu đề (2).gslides'\n",
            "'Bản trình bày không có tiêu đề (3).gslides'\n",
            "'Bản trình bày không có tiêu đề (4).gslides'\n",
            "'Bản trình bày không có tiêu đề (5).gslides'\n",
            "'Bản trình bày không có tiêu đề (6).gslides'\n",
            "'Bản trình bày không có tiêu đề.gslides'\n",
            " BT_PT_W6.gdoc\n",
            " CANBOGDDT.gsheet\n",
            " CayQuyetDinh_BTVN1.csv\n",
            " CayQuyetDinh_BTVN2.csv\n",
            "'Colab Notebooks'\n",
            " convertcsv.gsheet\n",
            "'Crack Win 10.zip'\n",
            " csdl_pt_bt_174.gdoc\n",
            " dayrpremiumds.apk\n",
            " default.gsheet\n",
            "\" 'de-on-kt-15p-11-hk2\"\n",
            " DIEMMH.gsheet\n",
            " dlhsthptnt.gsheet\n",
            " drive_shot_2019-11-22_12-42-12.png\n",
            " DuyTran.gsheet\n",
            " GIAOVIEN.gsheet\n",
            " HK_NH.gsheet\n",
            " HOCBA.gsheet\n",
            " HOCSINH.gsheet\n",
            " HOCSINH_LOP.gsheet\n",
            "'Hollow Hungerby OxT.mp3'\n",
            " HSKHENTHUONG.gsheet\n",
            " HUYEN.gsheet\n",
            " image_2023-11-17_162207538.gdoc\n",
            " image_2023-11-17_162207538.png\n",
            " IMG_20200305_195237.jpg\n",
            " IMG_20200305_195341.jpg\n",
            " IMG_20200305_195439.jpg\n",
            " IMG_20200305_195607.jpg\n",
            " K11PHONG-KT-HKII.gsheet\n",
            " KET-QUA-hs-dang-nhap-tai-khoan-Viettel-Study.gsheet\n",
            " KHENTHUONG.gsheet\n",
            " KIEM-TRA-DANG-NHAP.gsheet\n",
            " kqcv\n",
            " LOP.gsheet\n",
            " MON.gsheet\n",
            " Mus\n",
            " NHAP.gsheet\n",
            " NLMH\n",
            " NLMH126\n",
            " NLMH136\n",
            " PHANCONGGVBM.gsheet\n",
            " QLWBS35.gsheet\n",
            " SACH.gsheet\n",
            " Stick.Fight.The.Game_LinkNeverDie.Com.rar\n",
            " TABLE.gdoc\n",
            " TAI-KHOAN-HS.gsheet\n",
            "'Tài liệu không có tiêu đề.gdoc'\n",
            " TDCM.gsheet\n",
            " test_cla_food_id.h5\n",
            " test_cla_food_id_w.h5\n",
            "\"Tôi đang chia sẻ 'de-on-kt-15p-11-hk2' với bạn\"\n",
            " trry2.rar\n",
            " TRUONG.gsheet\n",
            " VID20200606220909.mp4\n",
            "'video-1574843589 (1).mp4'\n",
            " video-1574843589.mp4\n",
            "'video của tổ 2 lớp 11a4.mp4'\n",
            " Video.Guru_20191127_165537919.mp4\n",
            "'video phỏng vấn tổ 2 (chính thức) (1).mp4'\n",
            "'video phỏng vấn tổ 2 (chính thức).mp4'\n",
            " vietnamese-foods.zip\n",
            " Wc4RH.apk\n",
            "'y2mate.com - AJR  Worlds Smallest Violin Lyrics.mp3'\n",
            "'y2mate.com - Alec Benjamin  Let Me Down Slowly Lyrics.mp3'\n",
            "'y2mate.com - Already dead  Lil Boom  vietsub  lyrics .mp3'\n",
            "'y2mate.com - AronChupa  Little Swing Lyrics Letra ft Little Sis Nora.mp3'\n",
            "'y2mate.com - Astronaut In The Ocean Lyrics  Masked Wolf.mp3'\n",
            "'y2mate.com - AURORA  Runaway Lyrics.mp3'\n",
            "'y2mate.com - Avicii  Wake Me Up Lyrics.mp3'\n",
            "'y2mate.com - Avril Lavigne  Girlfriend.mp3'\n",
            "'y2mate.com - Azide x Young Lazy  Samurai.mp3'\n",
            "'y2mate.com - Bag Raiders  Shooting Stars Official Video (1).mp3'\n",
            "'y2mate.com - Baptism of Fire CliqTrack Remix.mp3'\n",
            "'y2mate.com - Besomorph Arcando Neoni  Army Lyrics.mp3'\n",
            "'y2mate.com - Blow My Mind.mp3'\n",
            "'y2mate.com - Bring Me The Horizon  Can You Feel My Heart.mp3'\n",
            "'y2mate.com - Centuries  Fall Out Boy Lyrics.mp3'\n",
            "'y2mate.com - Clean Bandit  Symphony Lyrics feat Zara Larsson.mp3'\n",
            "'y2mate.com - Code Name  Gamma.mp3'\n",
            "'y2mate.com - Cytus  Biotonic.mp3'\n",
            "'y2mate.com - Cytus II Äventyr  GrandThaw  Rigel Theatre音源 高音質.mp3'\n",
            "'y2mate.com - Cytus II Blossoms for Life  Shi Kuang Lee  Pico  林子玹音源 高音質.mp3'\n",
            "'y2mate.com - Cytus II Cityscape Takashi OKAMOTO12sound featTsukasa Shiraki音源高音質.mp3'\n",
            "'y2mate.com - Cytus II Favorites  DJTEKINASOMETHING 音源 高音質.mp3'\n",
            "'y2mate.com - Cytus II  Fireflies Funk Fiction Remix HQ Vers  Synthwave.mp3'\n",
            "'y2mate.com - CytusⅡFor You the Bellz Toll柳田Ethnica.mp3'\n",
            "'y2mate.com - Cytus II  Heat Ring  HQ Vers  Bass House.mp3'\n",
            "'y2mate.com - Cytus II  Hydra With Akira Complex  HQ Vers  HardcoreEurobeat.mp3'\n",
            "'y2mate.com - Cytus II Kryexe  響けExtended Mix.mp3'\n",
            "'y2mate.com - Cytus II Light up my love  onoken feat moco 音源 高音質.mp3'\n",
            "'y2mate.com - Cytus II Make Me Alive  THE SxPLAY菅原紗由理 音源 高音質.mp3'\n",
            "'y2mate.com - Cytus II More Than Diamond  THE SxPLAY菅原紗由理音源 高音質.mp3'\n",
            "'y2mate.com - Cytus II NEKO  NOMA  Brain Power.mp3'\n",
            "'y2mate.com - Cytus II NORDLYS  Rigel Theatre featミーウェル音源 高音質.mp3'\n",
            "'y2mate.com - Cytus II PTB10  Streetlights ft CassieGemini.mp3'\n",
            "'y2mate.com - Cytus II ROBO  MProject feat Jonjo   Pure Powerstomper.mp3'\n",
            "'y2mate.com - Cytus II ROBO  SOTUI feat Tha Watcher  Claim the Game.mp3'\n",
            "'y2mate.com - Cytus II ROBO  Team Grimoire  Restriction.mp3'\n",
            "'y2mate.com - Cytus II Sleeping Beast  SNoW音源 高音質.mp3'\n",
            "'y2mate.com - Cytus II So In Love  MKKanae Asaba音源.mp3'\n",
            "'y2mate.com - Cytus II Sunday Night Blues  TERU FOX音源.mp3'\n",
            "'y2mate.com - Cytus IIVOEZ Snow Blossom  yuritoworks音源 高音質.mp3'\n",
            "'y2mate.com - Cytus II 黎明 REIMEI  Tatsh音源 高音質.mp3'\n",
            "'y2mate.com - darling(c).mp3'\n",
            "'y2mate.com - darling.mp3'\n",
            "'y2mate.com - Deep Chills  Run Free feat IVIE Official Audio TikTok shoechange.mp3'\n",
            "'y2mate.com - Dido  Thank You Official Video.mp3'\n",
            "'y2mate.com - DVRST  close eyes extended version.mp3'\n",
            "'y2mate.com - Egzod  Maestro Chives  Royalty Lyrics ft Neoni.mp3'\n",
            "'y2mate.com - Ember Island  Umbrella Lyrics  Lyric Video.mp3'\n",
            "'y2mate.com - frad  first date.mp3'\n",
            "'y2mate.com - Gotye  Somebody That I Used To Know feat Kimbra Lyrics.mp3'\n",
            "'y2mate.com - Green Hope.mp3'\n",
            "'y2mate.com - Gym Class Heroes  My heart stereo Stereo Hearts Lyrics.mp3'\n",
            "'y2mate.com - Happiness Breeze.mp3'\n",
            "'y2mate.com - HUGEL feat Amber van Day  WTF Lyrics .mp3'\n",
            "'y2mate.com - Imagine Dragons  Believer Lyrics.mp3'\n",
            "'y2mate.com - Imagine Dragons  JID  Enemy Lyrics oh the misery everybody wants to be my enemy.mp3'\n",
            "'y2mate.com - Jack Stauber  Buttercup Lyrics.mp3'\n",
            "'y2mate.com - Jack Ü x Ekali x Gravez  Mind Karol Tip Edit.mp3'\n",
            "'y2mate.com - Lil Nas X MONTERO Call Me By Your Name Lyrics.mp3'\n",
            "'y2mate.com - lofi chill edm_Ice Cream  Cheerwine  Isaiah A  Instrumental.mp3'\n",
            "'y2mate.com - Lone Alpha  Make Up Your Mind feat TOFIE.mp3'\n",
            "'y2mate.com - M2U  Gravity.mp3'\n",
            "'y2mate.com - Mad World  Adam Lambert  Lyrics Kara Vietsub  Engsub.mp3'\n",
            "'y2mate.com - Måneskin  Beggin Lyrics Im beggin beggin you.mp3'\n",
            "'y2mate.com - Maroon 5  Memories Lyrics.mp3'\n",
            "'y2mate.com - Metal Gear Rising Revengeance OST   It Has To Be This Way Extended.mp3'\n",
            "'y2mate.com - Mikebøi  Missed.mp3'\n",
            "'y2mate.com - Mokali  Göz Teması TikTok.mp3'\n",
            "'y2mate.com - MrKitty  After dark (c).mp3'\n",
            "'y2mate.com - MrKitty  After Dark Lyrics If I cant have you no one can Tiktok Song.mp3'\n",
            "'y2mate.com - Nathan Evans  Wellerman Sea Shanty Lyrics.mp3'\n",
            "'y2mate.com - Naughty Boy  La la la ft Sam Smith Lyrics.mp3'\n",
            "'y2mate.com - Nightcore  Thunder Gabry Ponte LUMX Prezioso  Lyrics.mp3'\n",
            "'y2mate.com - Official technoplanet  気楽なCloudy from Cytus II.mp3'\n",
            "'y2mate.com - Oliver Tree  Life Goes On.mp3'\n",
            "'y2mate.com - Outkast  Ms Jackson San Holo Remix.mp3'\n",
            "'y2mate.com - Panic At The Disco  House of Memories Lyrics.mp3'\n",
            "'y2mate.com - Prismo  Solo.mp3'\n",
            "'y2mate.com - ReBoost feat ChiaOriginal PV.mp3'\n",
            "'y2mate.com - Rizky Ayuba  Kimi No Toriko.mp3'\n",
            "'y2mate.com - Royal  the Serpent  Overwhelmed Lyrics.mp3'\n",
            "'y2mate.com - SALES  chinese new year.mp3'\n",
            "'y2mate.com - Snails House  Hot Milk.mp3'\n",
            "'y2mate.com - Survive.mp3'\n",
            "'y2mate.com - Swanky Tunes  Летели облака Official Audio 2017.mp3'\n",
            "'y2mate.com - THE BANJO BEAT  RICKY DESKTOP.mp3'\n",
            "'y2mate.com - The Irrepressibles  In This Shirt lyrics.mp3'\n",
            "'y2mate.com - VietsubLyrics I Do  911.mp3'\n",
            "'y2mate.com - Whips and Chainz bass Boosted.mp3'\n",
            "'y2mate.com - William Britney Spears  Scream And Shout Lyrics Tiktok.mp3'\n",
            "'y2mate.com - ZUTOMAYO  お勉強しといてよSTUDY ME Lone Alpha Remix .mp3'\n",
            "'y2mate.com - 守夜人 Night Keepers Cytus II  Recall  Official full version.mp3'\n",
            "'y2mate.com - 黃明志東京盆踊りTokyo Bon 2020Ft 二宮芽生 Cool Japan TV 亞洲通吃 2018 All Eat Asia.mp3'\n"
          ]
        }
      ],
      "source": [
        "\n",
        "import os\n",
        "path = '/content/drive/MyDrive'\n",
        "os.chdir(path)\n",
        "!ls"
      ]
    },
    {
      "cell_type": "code",
      "execution_count": null,
      "metadata": {
        "id": "Hu5djSU43yWg"
      },
      "outputs": [],
      "source": [
        "# Move dataset to /tmp cause reading files from Drive is very slow\n",
        "!cp vietnamese-foods.zip /tmp\n"
      ]
    },
    {
      "cell_type": "code",
      "source": [
        "!unzip -q /tmp/vietnamese-foods.zip -d /tmp"
      ],
      "metadata": {
        "id": "reqBBDWhCDX2"
      },
      "execution_count": null,
      "outputs": []
    },
    {
      "cell_type": "markdown",
      "metadata": {
        "id": "8PbvhOfb6x6o"
      },
      "source": [
        "# Setup path"
      ]
    },
    {
      "cell_type": "code",
      "execution_count": null,
      "metadata": {
        "id": "TBs9QVym6zYz"
      },
      "outputs": [],
      "source": [
        "TRAIN_PATH = '/tmp/Images/Train'\n",
        "VALIDATE_PATH = '/tmp/Images/Validate'\n",
        "TEST_PATH = '/tmp/Images/Test'"
      ]
    },
    {
      "cell_type": "code",
      "execution_count": null,
      "metadata": {
        "id": "K_g6h0OW60X_"
      },
      "outputs": [],
      "source": [
        "PATH = '/content/drive/MyDrive/kqcv'\n",
        "\n",
        "BASE_MODEL_BEST = os.path.join(PATH, 'duc8245kc_DenseNet201_best.hdf5')\n",
        "BASE_MODEL_TRAINED = os.path.join(PATH, 'duc8245kc4_DenseNet201.hdf5')\n",
        "Weight_MODEL_TRAINED = os.path.join(PATH, 'duc8245kc4_DenseNet201_weight.hdf5')\n",
        "BASE_MODEL_FIG = os.path.join(PATH, 'duc8245kc4_DenseNet201_fig.jpg')\n",
        "\n",
        "# FINE_TUNE_MODEL_BEST = os.path.join(PATH, 'fine_tune_model_best.hdf5')\n",
        "# FINE_TUNE_MODEL_TRAINED = os.path.join(PATH, 'fine_tune_model_trained.hdf5')\n",
        "# FINE_TUNE_MODE_FIG = os.path.join(PATH, 'fine_tune_model_fig.jpg')"
      ]
    },
    {
      "cell_type": "markdown",
      "metadata": {
        "id": "Dt8mtwjLlFii"
      },
      "source": [
        "# Preparing data"
      ]
    },
    {
      "cell_type": "code",
      "execution_count": null,
      "metadata": {
        "id": "YrUH6HT06_N7"
      },
      "outputs": [],
      "source": [
        "IMAGE_SIZE = (300, 300)\n",
        "BATCH_SIZE = 64"
      ]
    },
    {
      "cell_type": "code",
      "execution_count": null,
      "metadata": {
        "id": "_-_wF6-g7AnR"
      },
      "outputs": [],
      "source": [
        "from tensorflow.keras.preprocessing.image import ImageDataGenerator\n",
        "\n",
        "train_generator = ImageDataGenerator(\n",
        "    rescale = 1./255,\n",
        "    rotation_range = 20,\n",
        "    # width_shift_range = 0.1,\n",
        "    # height_shift_range = 0.1,\n",
        "    shear_range = 0.1,\n",
        "    zoom_range = 0.2,\n",
        "    horizontal_flip = True\n",
        ")\n",
        "validate_generator = ImageDataGenerator(rescale=1./255)\n",
        "test_generator = ImageDataGenerator(rescale=1./255)"
      ]
    },
    {
      "cell_type": "code",
      "execution_count": null,
      "metadata": {
        "id": "opfyTGQAb-wE"
      },
      "outputs": [],
      "source": [
        "generated_train_data = train_generator.flow_from_directory(TRAIN_PATH, target_size=IMAGE_SIZE, batch_size=BATCH_SIZE)\n",
        "generated_validate_data = validate_generator.flow_from_directory(VALIDATE_PATH, target_size=IMAGE_SIZE, batch_size=BATCH_SIZE)\n",
        "generated_test_data = test_generator.flow_from_directory(TEST_PATH, target_size=IMAGE_SIZE)"
      ]
    },
    {
      "cell_type": "markdown",
      "metadata": {
        "id": "AnHKGG76uu67"
      },
      "source": [
        "# Model implement"
      ]
    },
    {
      "cell_type": "code",
      "execution_count": null,
      "metadata": {
        "id": "LJNzUVxP7BvF"
      },
      "outputs": [],
      "source": [
        "CLASSES = 30\n",
        "INITIAL_EPOCHS = 9\n",
        "# FINE_TUNE_EPOCHS = 7\n",
        "# TOTAL_EPOCHS = INITIAL_EPOCHS + FINE_TUNE_EPOCHS\n",
        "# FINE_TUNE_AT = 711"
      ]
    },
    {
      "cell_type": "markdown",
      "metadata": {
        "id": "fjn_OsMvxoMj"
      },
      "source": [
        "## Define the model"
      ]
    },
    {
      "cell_type": "code",
      "execution_count": null,
      "metadata": {
        "id": "rraP255Jdy2s"
      },
      "outputs": [],
      "source": [
        "from tensorflow.keras.applications.densenet import DenseNet201\n",
        "from tensorflow.keras.layers import GlobalAveragePooling2D, Dense, Dropout, Input,MaxPooling2D, LeakyReLU\n",
        "from tensorflow.keras.models import Model"
      ]
    },
    {
      "cell_type": "code",
      "execution_count": null,
      "metadata": {
        "id": "Rsunp70veV2j"
      },
      "outputs": [],
      "source": [
        "input_layer = Input(shape=(300, 300, 3))\n",
        "pretrained_model = DenseNet201(weights='imagenet', include_top=False, input_tensor=input_layer)\n",
        "last_output = pretrained_model.output\n",
        "\n",
        "x = GlobalAveragePooling2D()(last_output)\n",
        "x = Dense(1024)(x)\n",
        "x = LeakyReLU(alpha=0.1)(x)\n",
        "x = Dropout(0.2)(x)\n",
        "x = Dense(512)(x)\n",
        "x = LeakyReLU(alpha=0.1)(x)\n",
        "x = Dropout(0.2)(x)\n",
        "\n",
        "\n",
        "outputs = Dense(CLASSES, activation='softmax')(x)\n",
        "model = Model(inputs=pretrained_model.input, outputs=outputs)"
      ]
    },
    {
      "cell_type": "markdown",
      "metadata": {
        "id": "02WLrrF1xqb4"
      },
      "source": [
        "## Callbacks"
      ]
    },
    {
      "cell_type": "code",
      "execution_count": null,
      "metadata": {
        "id": "db8Tg97jrVqP"
      },
      "outputs": [],
      "source": [
        "from tensorflow.keras.callbacks import EarlyStopping, ModelCheckpoint,ReduceLROnPlateau\n",
        "base_checkpointer = ModelCheckpoint(\n",
        "    filepath = BASE_MODEL_BEST,\n",
        "    save_best_only = True,\n",
        "    verbose = 1\n",
        ")\n",
        "\n",
        "\n",
        "# Stop if no improvement after 2 epochs\n",
        "early_stopping = EarlyStopping(monitor='val_loss', patience=2, verbose=1)\n",
        "relu_cb= ReduceLROnPlateau(monitor='val_loss', factor=0.2, patience=1, min_lr=0.0001)"
      ]
    },
    {
      "cell_type": "markdown",
      "metadata": {
        "id": "Hb6-rA95mdCh"
      },
      "source": [
        "## Stage 1: Transfer learning"
      ]
    },
    {
      "cell_type": "code",
      "execution_count": null,
      "metadata": {
        "id": "7f7ri9GgvqSC"
      },
      "outputs": [],
      "source": [
        "for layer in pretrained_model.layers: layer.trainable = False\n",
        "model.compile(optimizer='Adam', loss='categorical_crossentropy', metrics=['accuracy'])"
      ]
    },
    {
      "cell_type": "code",
      "execution_count": null,
      "metadata": {
        "id": "tumbgjkn7Eaq"
      },
      "outputs": [],
      "source": [
        "history = model.fit(\n",
        "    generated_train_data,\n",
        "    validation_data = generated_validate_data,\n",
        "    validation_steps = generated_validate_data.n // BATCH_SIZE,\n",
        "    steps_per_epoch = generated_train_data.n // BATCH_SIZE,\n",
        "    callbacks = [base_checkpointer, early_stopping, relu_cb],\n",
        "    epochs = INITIAL_EPOCHS,\n",
        "    verbose = 1,\n",
        ")\n",
        "model.save(BASE_MODEL_TRAINED)\n",
        "model.save_weights(Weight_MODEL_TRAINED)"
      ]
    },
    {
      "cell_type": "code",
      "execution_count": null,
      "metadata": {
        "id": "TvnLcjhAMt4m"
      },
      "outputs": [],
      "source": [
        "acc = history.history['accuracy']\n",
        "loss = history.history['loss']\n",
        "val_acc = history.history['val_accuracy']\n",
        "val_loss = history.history['val_loss']"
      ]
    },
    {
      "cell_type": "code",
      "execution_count": null,
      "metadata": {
        "id": "OIsHwHVk3yWm"
      },
      "outputs": [],
      "source": [
        "plt.figure(figsize=(20, 5))\n",
        "plt.subplot(1, 2, 1)\n",
        "plt.plot(acc, label='Training Accuracy')\n",
        "plt.plot(val_acc, label='Validation Accuracy')\n",
        "plt.legend(loc='lower right')\n",
        "plt.ylabel('Accuracy')\n",
        "plt.ylim([min(plt.ylim()), 1])\n",
        "plt.title('Training and Validation Accuracy')\n",
        "\n",
        "plt.subplot(1, 2, 2)\n",
        "plt.plot(loss, label='Training Loss')\n",
        "plt.plot(val_loss, label='Validation Loss')\n",
        "plt.legend(loc='upper right')\n",
        "plt.ylabel('Cross Entropy')\n",
        "plt.ylim([min(plt.ylim()), max(plt.ylim())])\n",
        "plt.title('Training and Validation Loss')\n",
        "plt.xlabel('epoch')\n",
        "plt.savefig(BASE_MODEL_FIG)\n",
        "plt.show()"
      ]
    },
    {
      "cell_type": "markdown",
      "metadata": {
        "id": "ZvtG92ufqD1E"
      },
      "source": [
        "## Stage 2: Fine tuning"
      ]
    },
    {
      "cell_type": "code",
      "execution_count": null,
      "metadata": {
        "id": "dthkKZAa7Hbk"
      },
      "outputs": [],
      "source": [
        "# for layer in pretrained_model.layers[:FINE_TUNE_AT]: layer.trainable = False\n",
        "# for layer in pretrained_model.layers[FINE_TUNE_AT:]: layer.trainable = True"
      ]
    },
    {
      "cell_type": "code",
      "execution_count": null,
      "metadata": {
        "id": "l1AhZTRe3yWm"
      },
      "outputs": [],
      "source": [
        "# from tensorflow.keras.optimizers import SGD\n",
        "# model.compile(\n",
        "#     optimizer = SGD(learning_rate=1e-4, momentum=0.9),\n",
        "#     loss = 'categorical_crossentropy',\n",
        "#     metrics = ['accuracy']\n",
        "# )"
      ]
    },
    {
      "cell_type": "code",
      "execution_count": null,
      "metadata": {
        "id": "aDxgXy_DuP4p"
      },
      "outputs": [],
      "source": [
        "# history_fine = model.fit(\n",
        "#     generated_train_data,\n",
        "#     validation_data = generated_validate_data,\n",
        "#     validation_steps = generated_validate_data.n // BATCH_SIZE,\n",
        "#     steps_per_epoch = generated_train_data.n // BATCH_SIZE,\n",
        "#     epochs = TOTAL_EPOCHS,\n",
        "#     initial_epoch = history.epoch[-1],\n",
        "#     callbacks = [fine_tune_checkpointer, early_stopping],\n",
        "#     verbose = 1,\n",
        "# )\n",
        "# model.save(FINE_TUNE_MODEL_TRAINED)"
      ]
    },
    {
      "cell_type": "code",
      "execution_count": null,
      "metadata": {
        "id": "tR2bhKvf7Kj0"
      },
      "outputs": [],
      "source": [
        "# acc += history_fine.history['accuracy']\n",
        "# loss += history_fine.history['loss']\n",
        "# val_acc += history_fine.history['val_accuracy']\n",
        "# val_loss += history_fine.history['val_loss']"
      ]
    },
    {
      "cell_type": "code",
      "execution_count": null,
      "metadata": {
        "id": "AYLfL3pd7L5F"
      },
      "outputs": [],
      "source": [
        "# plt.figure(figsize=(20, 5))\n",
        "# plt.subplot(1, 2, 1)\n",
        "# plt.plot(acc, label='Training Accuracy')\n",
        "# plt.plot(val_acc, label='Validation Accuracy')\n",
        "# plt.ylim([min(plt.ylim()), 1])\n",
        "# plt.plot([INITIAL_EPOCHS - 7, INITIAL_EPOCHS - 7], plt.ylim(), label='Start Fine Tuning')\n",
        "# plt.legend(loc='lower right')\n",
        "# plt.title('Training and Validation Accuracy')\n",
        "\n",
        "# plt.subplot(1, 2, 2)\n",
        "# plt.plot(loss, label='Training Loss')\n",
        "# plt.plot(val_loss, label='Validation Loss')\n",
        "# plt.ylim([min(plt.ylim()), max(plt.ylim())])\n",
        "# plt.plot([INITIAL_EPOCHS - 7, INITIAL_EPOCHS - 7], plt.ylim(), label='Start Fine Tuning')\n",
        "# plt.legend(loc='upper right')\n",
        "# plt.title('Training and Validation Loss')\n",
        "# plt.xlabel('epoch')\n",
        "# plt.savefig(FINE_TUNE_MODE_FIG)\n",
        "# plt.show()"
      ]
    },
    {
      "cell_type": "markdown",
      "metadata": {
        "id": "o__Nz-Wbl1jW"
      },
      "source": [
        "# Evaluation"
      ]
    },
    {
      "cell_type": "code",
      "execution_count": null,
      "metadata": {
        "id": "obJpFrio7Nye"
      },
      "outputs": [],
      "source": [
        "loss, accuracy = model.evaluate(generated_test_data)\n",
        "print('Test accuracy:', accuracy)"
      ]
    },
    {
      "cell_type": "code",
      "execution_count": null,
      "metadata": {
        "id": "J2BobOKc0aVG"
      },
      "outputs": [],
      "source": [
        "# import gc\n",
        "# del model\n",
        "# gc.collect()"
      ]
    }
  ],
  "metadata": {
    "accelerator": "GPU",
    "colab": {
      "machine_shape": "hm",
      "provenance": []
    },
    "kernelspec": {
      "display_name": "Python 3",
      "language": "python",
      "name": "python3"
    },
    "language_info": {
      "codemirror_mode": {
        "name": "ipython",
        "version": 3
      },
      "file_extension": ".py",
      "mimetype": "text/x-python",
      "name": "python",
      "nbconvert_exporter": "python",
      "pygments_lexer": "ipython3",
      "version": "3.8.10"
    },
    "toc": {
      "base_numbering": 1,
      "nav_menu": {},
      "number_sections": true,
      "sideBar": true,
      "skip_h1_title": false,
      "title_cell": "Table of Contents",
      "title_sidebar": "Contents",
      "toc_cell": false,
      "toc_position": {},
      "toc_section_display": true,
      "toc_window_display": false
    }
  },
  "nbformat": 4,
  "nbformat_minor": 0
}