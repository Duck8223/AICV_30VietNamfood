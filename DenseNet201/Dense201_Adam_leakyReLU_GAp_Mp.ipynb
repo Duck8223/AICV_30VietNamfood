{
  "cells": [
    {
      "cell_type": "code",
      "execution_count": null,
      "metadata": {
        "id": "7fySQ-xR0UQl"
      },
      "outputs": [],
      "source": [
        "# import tensorflow as tf\n",
        "# import matplotlib.pyplot as plt\n",
        "# import h5py\n",
        "\n",
        "# tf.get_logger().setLevel('ERROR')\n",
        "# !curl -s https://raw.githubusercontent.com/sivel/speedtest-cli/master/speedtest.py | python -"
      ]
    },
    {
      "cell_type": "code",
      "execution_count": null,
      "metadata": {},
      "outputs": [],
      "source": [
        "# for layer in pretrained_model.layers[:FINE_TUNE_AT]: layer.trainable = False\n",
        "# for layer in pretrained_model.layers[FINE_TUNE_AT:]: layer.trainable = True\n",
        "\n",
        "# from tensorflow.keras.optimizers import SGD\n",
        "\n",
        "# model.compile(\n",
        "#     optimizer = SGD(learning_rate=1e-4, momentum=0.9),\n",
        "#     loss = 'categorical_crossentropy',\n",
        "#     metrics = ['accuracy']\n",
        "# )\n",
        "\n",
        "# history_fine = model.fit(\n",
        "#     generated_train_data,\n",
        "#     validation_data = generated_validate_data,\n",
        "#     validation_steps = generated_validate_data.n // BATCH_SIZE,\n",
        "#     steps_per_epoch = generated_train_data.n // BATCH_SIZE,\n",
        "#     epochs = TOTAL_EPOCHS,\n",
        "#     initial_epoch = history.epoch[-1],\n",
        "#     callbacks = [fine_tune_checkpointer, early_stopping],\n",
        "#     verbose = 1,\n",
        "# )\n",
        "\n",
        "# model.save(FINE_TUNE_MODEL_TRAINED)\n",
        "# acc += history_fine.history['accuracy']\n",
        "# loss += history_fine.history['loss']\n",
        "# val_acc += history_fine.history['val_accuracy']\n",
        "# val_loss += history_fine.history['val_loss']\n",
        "# plt.figure(figsize=(20, 5))\n",
        "# plt.subplot(1, 2, 1)\n",
        "# plt.plot(acc, label='Training Accuracy')\n",
        "# plt.plot(val_acc, label='Validation Accuracy')\n",
        "# plt.ylim([min(plt.ylim()), 1])\n",
        "# plt.plot([INITIAL_EPOCHS - 7, INITIAL_EPOCHS - 7], plt.ylim(), label='Start Fine Tuning')\n",
        "# plt.legend(loc='lower right')\n",
        "# plt.title('Training and Validation Accuracy')\n",
        "\n",
        "# plt.subplot(1, 2, 2)\n",
        "# plt.plot(loss, label='Training Loss')\n",
        "# plt.plot(val_loss, label='Validation Loss')\n",
        "# plt.ylim([min(plt.ylim()), max(plt.ylim())])\n",
        "# plt.plot([INITIAL_EPOCHS - 7, INITIAL_EPOCHS - 7], plt.ylim(), label='Start Fine Tuning')\n",
        "# plt.legend(loc='upper right')\n",
        "# plt.title('Training and Validation Loss')\n",
        "# plt.xlabel('epoch')\n",
        "# plt.savefig(FINE_TUNE_MODE_FIG)\n",
        "# plt.show()"
      ]
    },
    {
      "cell_type": "markdown",
      "metadata": {
        "id": "ctWb-L9j3yWg"
      },
      "source": [
        "# Import dataset"
      ]
    },
    {
      "cell_type": "code",
      "execution_count": null,
      "metadata": {
        "colab": {
          "base_uri": "https://localhost:8080/"
        },
        "id": "nj0pXbq3_3tz",
        "outputId": "a6f126aa-4482-4997-a542-636ad6b80d9a"
      },
      "outputs": [
        {
          "name": "stdout",
          "output_type": "stream",
          "text": [
            "Mounted at /content/drive\n"
          ]
        }
      ],
      "source": [
        "# from google.colab import drive\n",
        "# drive.mount('/content/drive')"
      ]
    },
    {
      "cell_type": "code",
      "execution_count": null,
      "metadata": {
        "id": "9ckbbiM3BY3I"
      },
      "outputs": [],
      "source": [
        "import os\n",
        "import tensorflow as tf\n",
        "import matplotlib.pyplot as plt\n",
        "import h5py\n",
        "from tensorflow.keras.preprocessing.image import ImageDataGenerator\n",
        "from tensorflow.keras.applications.densenet import DenseNet201\n",
        "from tensorflow.keras.layers import GlobalAveragePooling2D, Dense, Dropout, Input,MaxPooling2D, LeakyReLU\n",
        "from tensorflow.keras.models import Model\n",
        "from tensorflow.keras.callbacks import EarlyStopping, ModelCheckpoint,ReduceLROnPlateau\n"
      ]
    },
    {
      "cell_type": "code",
      "execution_count": null,
      "metadata": {
        "colab": {
          "base_uri": "https://localhost:8080/"
        },
        "id": "WatJhyRp3yWg",
        "outputId": "0f29371e-ac0b-4af7-fdf0-8e13b8b4e675"
      },
      "outputs": [],
      "source": [
        "path = '/content/drive/MyDrive'\n",
        "os.chdir(path)"
      ]
    },
    {
      "cell_type": "code",
      "execution_count": null,
      "metadata": {
        "id": "Hu5djSU43yWg"
      },
      "outputs": [],
      "source": [
        "# Move dataset to /tmp cause reading files from Drive is very slow\n",
        "!cp vietnamese-foods.zip /tmp\n",
        "!unzip -q /tmp/vietnamese-foods.zip -d /tmp"
      ]
    },
    {
      "cell_type": "markdown",
      "metadata": {
        "id": "8PbvhOfb6x6o"
      },
      "source": [
        "# Setup path"
      ]
    },
    {
      "cell_type": "code",
      "execution_count": null,
      "metadata": {
        "id": "TBs9QVym6zYz"
      },
      "outputs": [],
      "source": [
        "TRAIN_PATH = '/tmp/Images/Train'\n",
        "VALIDATE_PATH = '/tmp/Images/Validate'\n",
        "TEST_PATH = '/tmp/Images/Test'"
      ]
    },
    {
      "cell_type": "code",
      "execution_count": null,
      "metadata": {
        "id": "K_g6h0OW60X_"
      },
      "outputs": [],
      "source": [
        "PATH = '/content/drive/MyDrive/kqcv'\n",
        "\n",
        "BASE_MODEL_BEST = os.path.join(PATH, 'duc8245kc_DenseNet201_best.hdf5')\n",
        "BASE_MODEL_TRAINED = os.path.join(PATH, 'duc8245kc5_DenseNet201.hdf5')\n",
        "Weight_MODEL_TRAINED = os.path.join(PATH, 'duc8245kc5_DenseNet201_weight.hdf5')\n",
        "BASE_MODEL_FIG = os.path.join(PATH, 'duc8245kc5_DenseNet201_fig.jpg')"
      ]
    },
    {
      "cell_type": "markdown",
      "metadata": {
        "id": "Dt8mtwjLlFii"
      },
      "source": [
        "# Preparing data"
      ]
    },
    {
      "cell_type": "code",
      "execution_count": null,
      "metadata": {
        "id": "YrUH6HT06_N7"
      },
      "outputs": [],
      "source": [
        "IMAGE_SIZE = (300, 300)\n",
        "BATCH_SIZE = 64"
      ]
    },
    {
      "cell_type": "code",
      "execution_count": null,
      "metadata": {
        "id": "_-_wF6-g7AnR"
      },
      "outputs": [],
      "source": [
        "\n",
        "train_generator = ImageDataGenerator(\n",
        "    rescale = 1./255,\n",
        "    rotation_range = 20,\n",
        "    # width_shift_range = 0.1,\n",
        "    # height_shift_range = 0.1,\n",
        "    shear_range = 0.1,\n",
        "    zoom_range = 0.2,\n",
        "    horizontal_flip = True\n",
        ")\n",
        "validate_generator = ImageDataGenerator(rescale=1./255)\n",
        "test_generator = ImageDataGenerator(rescale=1./255)"
      ]
    },
    {
      "cell_type": "code",
      "execution_count": null,
      "metadata": {
        "colab": {
          "base_uri": "https://localhost:8080/"
        },
        "id": "opfyTGQAb-wE",
        "outputId": "56d85b8a-1b5e-4ed0-c88c-19ccbb04c71f"
      },
      "outputs": [
        {
          "name": "stdout",
          "output_type": "stream",
          "text": [
            "Found 17581 images belonging to 30 classes.\n",
            "Found 2515 images belonging to 30 classes.\n",
            "Found 5040 images belonging to 30 classes.\n"
          ]
        }
      ],
      "source": [
        "generated_train_data = train_generator.flow_from_directory(TRAIN_PATH, target_size=IMAGE_SIZE, batch_size=BATCH_SIZE)\n",
        "generated_validate_data = validate_generator.flow_from_directory(VALIDATE_PATH, target_size=IMAGE_SIZE, batch_size=BATCH_SIZE)\n",
        "generated_test_data = test_generator.flow_from_directory(TEST_PATH, target_size=IMAGE_SIZE)"
      ]
    },
    {
      "cell_type": "markdown",
      "metadata": {
        "id": "AnHKGG76uu67"
      },
      "source": [
        "# Model implement"
      ]
    },
    {
      "cell_type": "code",
      "execution_count": null,
      "metadata": {
        "id": "LJNzUVxP7BvF"
      },
      "outputs": [],
      "source": [
        "CLASSES = 30\n",
        "INITIAL_EPOCHS = 9"
      ]
    },
    {
      "cell_type": "markdown",
      "metadata": {
        "id": "fjn_OsMvxoMj"
      },
      "source": [
        "## Define the model"
      ]
    },
    {
      "cell_type": "code",
      "execution_count": null,
      "metadata": {
        "colab": {
          "base_uri": "https://localhost:8080/"
        },
        "id": "Rsunp70veV2j",
        "outputId": "6a281534-e32c-44c2-bfd3-0d6a5f841e95"
      },
      "outputs": [
        {
          "name": "stdout",
          "output_type": "stream",
          "text": [
            "Downloading data from https://storage.googleapis.com/tensorflow/keras-applications/densenet/densenet201_weights_tf_dim_ordering_tf_kernels_notop.h5\n",
            "74836368/74836368 [==============================] - 4s 0us/step\n"
          ]
        }
      ],
      "source": [
        "input_layer = Input(shape=(300, 300, 3))\n",
        "pretrained_model = DenseNet201(weights='imagenet', include_top=False, input_tensor=input_layer)\n",
        "last_output = pretrained_model.output\n",
        "x = MaxPooling2D(pool_size=(2, 2))(last_output)\n",
        "x = GlobalAveragePooling2D()(last_output)\n",
        "x = Dense(1024)(x)\n",
        "x = LeakyReLU(alpha=0.1)(x)\n",
        "x = Dropout(0.2)(x)\n",
        "x = Dense(512)(x)\n",
        "x = LeakyReLU(alpha=0.1)(x)\n",
        "x = Dropout(0.2)(x)\n",
        "\n",
        "\n",
        "outputs = Dense(CLASSES, activation='softmax')(x)\n",
        "model = Model(inputs=pretrained_model.input, outputs=outputs)"
      ]
    },
    {
      "cell_type": "markdown",
      "metadata": {
        "id": "02WLrrF1xqb4"
      },
      "source": [
        "## Callbacks"
      ]
    },
    {
      "cell_type": "code",
      "execution_count": null,
      "metadata": {
        "id": "db8Tg97jrVqP"
      },
      "outputs": [],
      "source": [
        "base_checkpointer = ModelCheckpoint(\n",
        "    filepath = BASE_MODEL_BEST,\n",
        "    save_best_only = True,\n",
        "    verbose = 1\n",
        ")\n",
        "\n",
        "\n",
        "# Stop if no improvement after 2 epochs\n",
        "early_stopping = EarlyStopping(monitor='val_loss', patience=2, verbose=1)\n",
        "relu_cb= ReduceLROnPlateau(monitor='val_loss', factor=0.2, patience=1, min_lr=0.0001)"
      ]
    },
    {
      "cell_type": "markdown",
      "metadata": {
        "id": "Hb6-rA95mdCh"
      },
      "source": [
        "## Stage 1: Transfer learning"
      ]
    },
    {
      "cell_type": "code",
      "execution_count": null,
      "metadata": {
        "id": "7f7ri9GgvqSC"
      },
      "outputs": [],
      "source": [
        "for layer in pretrained_model.layers: layer.trainable = False\n",
        "model.compile(optimizer='Adam', loss='categorical_crossentropy', metrics=['accuracy'])"
      ]
    },
    {
      "cell_type": "code",
      "execution_count": null,
      "metadata": {
        "colab": {
          "base_uri": "https://localhost:8080/"
        },
        "id": "tumbgjkn7Eaq",
        "outputId": "9e806657-0a8d-42d9-80bf-f2c042c4289b"
      },
      "outputs": [
        {
          "name": "stdout",
          "output_type": "stream",
          "text": [
            "Epoch 1/9\n",
            "274/274 [==============================] - ETA: 0s - loss: 1.6083 - accuracy: 0.5204\n",
            "Epoch 1: val_loss improved from inf to 1.07513, saving model to /content/drive/MyDrive/kqcv/duc8245kc_DenseNet201_best.hdf5\n"
          ]
        },
        {
          "name": "stderr",
          "output_type": "stream",
          "text": [
            "/usr/local/lib/python3.10/dist-packages/keras/src/engine/training.py:3103: UserWarning: You are saving your model as an HDF5 file via `model.save()`. This file format is considered legacy. We recommend using instead the native Keras format, e.g. `model.save('my_model.keras')`.\n",
            "  saving_api.save_model(\n"
          ]
        },
        {
          "name": "stdout",
          "output_type": "stream",
          "text": [
            "\b\b\b\b\b\b\b\b\b\b\b\b\b\b\b\b\b\b\b\b\b\b\b\b\b\b\b\b\b\b\b\b\b\b\b\b\b\b\b\b\b\b\b\b\b\b\b\b\b\b\b\b\b\b\b\b\b\b\b\b\b\b\b\b\b\b\b\b\b\b\b\b\b\b\b\b\b\b\b\b\b\b\b\b\r274/274 [==============================] - 758s 3s/step - loss: 1.6083 - accuracy: 0.5204 - val_loss: 1.0751 - val_accuracy: 0.6711 - lr: 0.0010\n",
            "Epoch 2/9\n",
            "274/274 [==============================] - ETA: 0s - loss: 1.0777 - accuracy: 0.6717\n",
            "Epoch 2: val_loss improved from 1.07513 to 0.98200, saving model to /content/drive/MyDrive/kqcv/duc8245kc_DenseNet201_best.hdf5\n",
            "274/274 [==============================] - 679s 2s/step - loss: 1.0777 - accuracy: 0.6717 - val_loss: 0.9820 - val_accuracy: 0.7019 - lr: 0.0010\n",
            "Epoch 3/9\n",
            "274/274 [==============================] - ETA: 0s - loss: 0.9348 - accuracy: 0.7168\n",
            "Epoch 3: val_loss did not improve from 0.98200\n",
            "274/274 [==============================] - 702s 3s/step - loss: 0.9348 - accuracy: 0.7168 - val_loss: 0.9958 - val_accuracy: 0.7047 - lr: 0.0010\n",
            "Epoch 4/9\n",
            "274/274 [==============================] - ETA: 0s - loss: 0.7181 - accuracy: 0.7786\n",
            "Epoch 4: val_loss improved from 0.98200 to 0.80913, saving model to /content/drive/MyDrive/kqcv/duc8245kc_DenseNet201_best.hdf5\n",
            "274/274 [==============================] - 674s 2s/step - loss: 0.7181 - accuracy: 0.7786 - val_loss: 0.8091 - val_accuracy: 0.7556 - lr: 2.0000e-04\n",
            "Epoch 5/9\n",
            "274/274 [==============================] - ETA: 0s - loss: 0.6642 - accuracy: 0.7965\n",
            "Epoch 5: val_loss did not improve from 0.80913\n",
            "274/274 [==============================] - 653s 2s/step - loss: 0.6642 - accuracy: 0.7965 - val_loss: 0.8199 - val_accuracy: 0.7568 - lr: 2.0000e-04\n",
            "Epoch 6/9\n",
            "274/274 [==============================] - ETA: 0s - loss: 0.6127 - accuracy: 0.8085\n",
            "Epoch 6: val_loss improved from 0.80913 to 0.79053, saving model to /content/drive/MyDrive/kqcv/duc8245kc_DenseNet201_best.hdf5\n",
            "274/274 [==============================] - 656s 2s/step - loss: 0.6127 - accuracy: 0.8085 - val_loss: 0.7905 - val_accuracy: 0.7636 - lr: 1.0000e-04\n",
            "Epoch 7/9\n",
            "274/274 [==============================] - ETA: 0s - loss: 0.5840 - accuracy: 0.8185\n",
            "Epoch 7: val_loss improved from 0.79053 to 0.77072, saving model to /content/drive/MyDrive/kqcv/duc8245kc_DenseNet201_best.hdf5\n",
            "274/274 [==============================] - 649s 2s/step - loss: 0.5840 - accuracy: 0.8185 - val_loss: 0.7707 - val_accuracy: 0.7712 - lr: 1.0000e-04\n",
            "Epoch 8/9\n",
            "274/274 [==============================] - ETA: 0s - loss: 0.5665 - accuracy: 0.8203\n",
            "Epoch 8: val_loss did not improve from 0.77072\n",
            "274/274 [==============================] - 655s 2s/step - loss: 0.5665 - accuracy: 0.8203 - val_loss: 0.7716 - val_accuracy: 0.7720 - lr: 1.0000e-04\n",
            "Epoch 9/9\n",
            "274/274 [==============================] - ETA: 0s - loss: 0.5460 - accuracy: 0.8295\n",
            "Epoch 9: val_loss improved from 0.77072 to 0.76813, saving model to /content/drive/MyDrive/kqcv/duc8245kc_DenseNet201_best.hdf5\n",
            "274/274 [==============================] - 652s 2s/step - loss: 0.5460 - accuracy: 0.8295 - val_loss: 0.7681 - val_accuracy: 0.7688 - lr: 1.0000e-04\n"
          ]
        }
      ],
      "source": [
        "history = model.fit(\n",
        "    generated_train_data,\n",
        "    validation_data = generated_validate_data,\n",
        "    validation_steps = generated_validate_data.n // BATCH_SIZE,\n",
        "    steps_per_epoch = generated_train_data.n // BATCH_SIZE,\n",
        "    callbacks = [base_checkpointer, early_stopping, relu_cb],\n",
        "    epochs = INITIAL_EPOCHS,\n",
        "    verbose = 1,\n",
        ")\n",
        "model.save(BASE_MODEL_TRAINED)\n",
        "model.save_weights(Weight_MODEL_TRAINED)"
      ]
    },
    {
      "cell_type": "code",
      "execution_count": null,
      "metadata": {
        "id": "TvnLcjhAMt4m"
      },
      "outputs": [],
      "source": [
        "acc = history.history['accuracy']\n",
        "loss = history.history['loss']\n",
        "val_acc = history.history['val_accuracy']\n",
        "val_loss = history.history['val_loss']"
      ]
    },
    {
      "cell_type": "code",
      "execution_count": null,
      "metadata": {
        "colab": {
          "base_uri": "https://localhost:8080/",
          "height": 204
        },
        "id": "OIsHwHVk3yWm",
        "outputId": "fcf3cdea-e724-4b48-eac0-a18eb07dd273"
      },
      "outputs": [
        {
          "data": {
            "image/png": "[encoded data removed]",
            "text/plain": [
              "<Figure size 2000x500 with 2 Axes>"
            ]
          },
          "metadata": {},
          "output_type": "display_data"
        }
      ],
      "source": [
        "plt.figure(figsize=(20, 5))\n",
        "plt.subplot(1, 2, 1)\n",
        "plt.plot(acc, label='Training Accuracy')\n",
        "plt.plot(val_acc, label='Validation Accuracy')\n",
        "plt.legend(loc='lower right')\n",
        "plt.ylabel('Accuracy')\n",
        "plt.ylim([min(plt.ylim()), 1])\n",
        "plt.title('Training and Validation Accuracy')\n",
        "\n",
        "plt.subplot(1, 2, 2)\n",
        "plt.plot(loss, label='Training Loss')\n",
        "plt.plot(val_loss, label='Validation Loss')\n",
        "plt.legend(loc='upper right')\n",
        "plt.ylabel('Cross Entropy')\n",
        "plt.ylim([min(plt.ylim()), max(plt.ylim())])\n",
        "plt.title('Training and Validation Loss')\n",
        "plt.xlabel('epoch')\n",
        "plt.savefig(BASE_MODEL_FIG)\n",
        "plt.show()"
      ]
    },
    {
      "cell_type": "markdown",
      "metadata": {
        "id": "o__Nz-Wbl1jW"
      },
      "source": [
        "# Evaluation"
      ]
    },
    {
      "cell_type": "code",
      "execution_count": null,
      "metadata": {
        "colab": {
          "base_uri": "https://localhost:8080/"
        },
        "id": "obJpFrio7Nye",
        "outputId": "f0b9bd43-4c18-447d-fa4d-018132b15226"
      },
      "outputs": [
        {
          "name": "stdout",
          "output_type": "stream",
          "text": [
            "158/158 [==============================] - 109s 612ms/step - loss: 0.7588 - accuracy: 0.7772\n",
            "Test accuracy: 0.7771825194358826\n"
          ]
        }
      ],
      "source": [
        "loss, accuracy = model.evaluate(generated_test_data)\n",
        "print('Test accuracy:', accuracy)"
      ]
    }
  ],
  "metadata": {
    "accelerator": "GPU",
    "colab": {
      "machine_shape": "hm",
      "provenance": []
    },
    "kernelspec": {
      "display_name": "Python 3",
      "language": "python",
      "name": "python3"
    },
    "language_info": {
      "codemirror_mode": {
        "name": "ipython",
        "version": 3
      },
      "file_extension": ".py",
      "mimetype": "text/x-python",
      "name": "python",
      "nbconvert_exporter": "python",
      "pygments_lexer": "ipython3",
      "version": "3.8.10"
    },
    "toc": {
      "base_numbering": 1,
      "nav_menu": {},
      "number_sections": true,
      "sideBar": true,
      "skip_h1_title": false,
      "title_cell": "Table of Contents",
      "title_sidebar": "Contents",
      "toc_cell": false,
      "toc_position": {},
      "toc_section_display": true,
      "toc_window_display": false
    }
  },
  "nbformat": 4,
  "nbformat_minor": 0
}
