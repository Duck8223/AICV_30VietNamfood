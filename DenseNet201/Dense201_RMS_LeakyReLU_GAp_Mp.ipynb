{
  "cells": [
    {
      "cell_type": "code",
      "execution_count": null,
      "metadata": {
        "id": "7fySQ-xR0UQl"
      },
      "outputs": [],
      "source": [
        "# import tensorflow as tf\n",
        "# import matplotlib.pyplot as plt\n",
        "# import h5py\n",
        "\n",
        "# tf.get_logger().setLevel('ERROR')\n",
        "# !curl -s https://raw.githubusercontent.com/sivel/speedtest-cli/master/speedtest.py | python -"
      ]
    },
    {
      "cell_type": "markdown",
      "metadata": {
        "id": "ctWb-L9j3yWg"
      },
      "source": [
        "# Import dataset"
      ]
    },
    {
      "cell_type": "code",
      "execution_count": null,
      "metadata": {
        "colab": {
          "base_uri": "https://localhost:8080/"
        },
        "id": "nj0pXbq3_3tz",
        "outputId": "26e457c5-fc56-4014-e8b6-63ea831c812d"
      },
      "outputs": [
        {
          "name": "stdout",
          "output_type": "stream",
          "text": [
            "Mounted at /content/drive\n"
          ]
        }
      ],
      "source": [
        "from google.colab import drive\n",
        "drive.mount('/content/drive')"
      ]
    },
    {
      "cell_type": "code",
      "execution_count": null,
      "metadata": {
        "id": "9ckbbiM3BY3I"
      },
      "outputs": [],
      "source": [
        "import os\n",
        "import tensorflow as tf\n",
        "import matplotlib.pyplot as plt\n",
        "import h5py\n",
        "from tensorflow.keras.preprocessing.image import ImageDataGenerator\n",
        "from tensorflow.keras.applications.densenet import DenseNet201\n",
        "from tensorflow.keras.layers import GlobalAveragePooling2D, Dense, Dropout, Input,MaxPooling2D, LeakyReLU\n",
        "from tensorflow.keras.models import Model\n",
        "from tensorflow.keras.callbacks import EarlyStopping, ModelCheckpoint,ReduceLROnPlateau\n",
        "from tensorflow.keras.optimizers import RMSprop"
      ]
    },
    {
      "cell_type": "code",
      "execution_count": null,
      "metadata": {
        "colab": {
          "base_uri": "https://localhost:8080/"
        },
        "id": "WatJhyRp3yWg",
        "outputId": "a6567f58-87e5-4e38-f593-4b6d533087f7"
      },
      "outputs": [
        {
          "name": "stdout",
          "output_type": "stream",
          "text": [
            "vietnamese-foods.zip\n"
          ]
        }
      ],
      "source": [
        "\n",
        "import os\n",
        "path = '/content/drive/MyDrive/vietnamfood'\n",
        "os.chdir(path)"
      ]
    },
    {
      "cell_type": "code",
      "execution_count": null,
      "metadata": {
        "id": "Hu5djSU43yWg"
      },
      "outputs": [],
      "source": [
        "# Move dataset to /tmp cause reading files from Drive is very slow\n",
        "!cp vietnamese-foods.zip /tmp\n",
        "!unzip -q /tmp/vietnamese-foods.zip -d /tmp"
      ]
    },
    {
      "cell_type": "markdown",
      "metadata": {
        "id": "8PbvhOfb6x6o"
      },
      "source": [
        "# Setup path"
      ]
    },
    {
      "cell_type": "code",
      "execution_count": null,
      "metadata": {
        "id": "TBs9QVym6zYz"
      },
      "outputs": [],
      "source": [
        "TRAIN_PATH = '/tmp/Images/Train'\n",
        "VALIDATE_PATH = '/tmp/Images/Validate'\n",
        "TEST_PATH = '/tmp/Images/Test'"
      ]
    },
    {
      "cell_type": "code",
      "execution_count": null,
      "metadata": {
        "id": "K_g6h0OW60X_"
      },
      "outputs": [],
      "source": [
        "PATH = '/content/drive/MyDrive/kqcv'\n",
        "\n",
        "BASE_MODEL_BEST = os.path.join(PATH, 'hpduc8222_DenseNet201_best.hdf5')\n",
        "BASE_MODEL_TRAINED = os.path.join(PATH, 'hpduc82224_DenseNet201.hdf5')\n",
        "Weight_MODEL_TRAINED = os.path.join(PATH, 'hpduc82224_DenseNet201_weight.hdf5')\n",
        "BASE_MODEL_FIG = os.path.join(PATH, 'hpduc82224_DenseNet201_fig.jpg')"
      ]
    },
    {
      "cell_type": "markdown",
      "metadata": {
        "id": "Dt8mtwjLlFii"
      },
      "source": [
        "# Preparing data"
      ]
    },
    {
      "cell_type": "code",
      "execution_count": null,
      "metadata": {
        "id": "YrUH6HT06_N7"
      },
      "outputs": [],
      "source": [
        "IMAGE_SIZE = (300, 300)\n",
        "BATCH_SIZE = 64"
      ]
    },
    {
      "cell_type": "code",
      "execution_count": null,
      "metadata": {
        "id": "_-_wF6-g7AnR"
      },
      "outputs": [],
      "source": [
        "train_generator = ImageDataGenerator(\n",
        "    rescale = 1./255,\n",
        "    rotation_range = 20,\n",
        "    # width_shift_range = 0.2,\n",
        "    # height_shift_range = 0.2,\n",
        "    shear_range = 0.1,\n",
        "    zoom_range = 0.2,\n",
        "    horizontal_flip = True,\n",
        "\n",
        ")\n",
        "validate_generator = ImageDataGenerator(rescale=1./255)\n",
        "test_generator = ImageDataGenerator(rescale=1./255)"
      ]
    },
    {
      "cell_type": "code",
      "execution_count": null,
      "metadata": {
        "colab": {
          "base_uri": "https://localhost:8080/"
        },
        "id": "opfyTGQAb-wE",
        "outputId": "cb1fe53f-aee4-4005-dff3-bcffb432ef51"
      },
      "outputs": [
        {
          "name": "stdout",
          "output_type": "stream",
          "text": [
            "Found 17581 images belonging to 30 classes.\n",
            "Found 2515 images belonging to 30 classes.\n",
            "Found 5040 images belonging to 30 classes.\n"
          ]
        }
      ],
      "source": [
        "generated_train_data = train_generator.flow_from_directory(TRAIN_PATH, target_size=IMAGE_SIZE, batch_size=BATCH_SIZE)\n",
        "generated_validate_data = validate_generator.flow_from_directory(VALIDATE_PATH, target_size=IMAGE_SIZE, batch_size=BATCH_SIZE)\n",
        "generated_test_data = test_generator.flow_from_directory(TEST_PATH, target_size=IMAGE_SIZE)"
      ]
    },
    {
      "cell_type": "markdown",
      "metadata": {
        "id": "AnHKGG76uu67"
      },
      "source": [
        "# Model implement"
      ]
    },
    {
      "cell_type": "code",
      "execution_count": null,
      "metadata": {
        "id": "LJNzUVxP7BvF"
      },
      "outputs": [],
      "source": [
        "CLASSES = 30\n",
        "INITIAL_EPOCHS = 7"
      ]
    },
    {
      "cell_type": "markdown",
      "metadata": {
        "id": "fjn_OsMvxoMj"
      },
      "source": [
        "## Define the model"
      ]
    },
    {
      "cell_type": "code",
      "execution_count": null,
      "metadata": {
        "colab": {
          "base_uri": "https://localhost:8080/"
        },
        "id": "Rsunp70veV2j",
        "outputId": "e44bbd3c-27c8-42de-a947-c11e1701398a"
      },
      "outputs": [
        {
          "name": "stdout",
          "output_type": "stream",
          "text": [
            "Downloading data from https://storage.googleapis.com/tensorflow/keras-applications/densenet/densenet201_weights_tf_dim_ordering_tf_kernels_notop.h5\n",
            "74836368/74836368 [==============================] - 3s 0us/step\n"
          ]
        }
      ],
      "source": [
        "input_layer = Input(shape=(300, 300, 3))\n",
        "pretrained_model = DenseNet201(weights='imagenet', include_top=False, input_tensor=input_layer)\n",
        "last_output = pretrained_model.output\n",
        "x = MaxPooling2D(pool_size=(2, 2))(last_output)\n",
        "x = GlobalAveragePooling2D()(last_output)\n",
        "x = Dense(1024)(x)\n",
        "x = LeakyReLU(alpha=0.1)(x)\n",
        "x = Dropout(0.2)(x)\n",
        "x = Dense(512)(x)\n",
        "x = LeakyReLU(alpha=0.1)(x)\n",
        "x = Dropout(0.2)(x)\n",
        "\n",
        "\n",
        "outputs = Dense(CLASSES, activation='softmax')(x)\n",
        "model = Model(inputs=pretrained_model.input, outputs=outputs)"
      ]
    },
    {
      "cell_type": "markdown",
      "metadata": {
        "id": "02WLrrF1xqb4"
      },
      "source": [
        "## Callbacks"
      ]
    },
    {
      "cell_type": "code",
      "execution_count": null,
      "metadata": {
        "id": "db8Tg97jrVqP"
      },
      "outputs": [],
      "source": [
        "optimizer = RMSprop(learning_rate=0.001, rho=0.9, epsilon=1e-07)\n",
        "base_checkpointer = ModelCheckpoint(\n",
        "    filepath = BASE_MODEL_BEST,\n",
        "    save_best_only = True,\n",
        "    verbose = 1\n",
        ")\n",
        "\n",
        "# Stop if no improvement after 3 epochs\n",
        "early_stopping = EarlyStopping(monitor='val_loss', patience=2, verbose=1)\n",
        "relu_cb= ReduceLROnPlateau(monitor='val_loss', factor=0.2, patience=1, min_lr=0.0001)"
      ]
    },
    {
      "cell_type": "markdown",
      "metadata": {
        "id": "Hb6-rA95mdCh"
      },
      "source": [
        "## Stage 1: Transfer learning"
      ]
    },
    {
      "cell_type": "code",
      "execution_count": null,
      "metadata": {
        "id": "7f7ri9GgvqSC"
      },
      "outputs": [],
      "source": [
        "for layer in pretrained_model.layers: layer.trainable = False\n",
        "model.compile(optimizer=optimizer, loss='categorical_crossentropy', metrics=['accuracy'])"
      ]
    },
    {
      "cell_type": "code",
      "execution_count": null,
      "metadata": {
        "colab": {
          "base_uri": "https://localhost:8080/"
        },
        "id": "tumbgjkn7Eaq",
        "outputId": "38c7c666-5b5a-4bbe-e693-7a947e2bdafe"
      },
      "outputs": [
        {
          "name": "stdout",
          "output_type": "stream",
          "text": [
            "Epoch 1/7\n",
            "274/274 [==============================] - ETA: 0s - loss: 1.8932 - accuracy: 0.4496\n",
            "Epoch 1: val_loss improved from inf to 1.31912, saving model to /content/drive/MyDrive/kqcv/hpduc8222_DenseNet201_best.hdf5\n"
          ]
        },
        {
          "name": "stderr",
          "output_type": "stream",
          "text": [
            "/usr/local/lib/python3.10/dist-packages/keras/src/engine/training.py:3103: UserWarning: You are saving your model as an HDF5 file via `model.save()`. This file format is considered legacy. We recommend using instead the native Keras format, e.g. `model.save('my_model.keras')`.\n",
            "  saving_api.save_model(\n"
          ]
        },
        {
          "name": "stdout",
          "output_type": "stream",
          "text": [
            "\b\b\b\b\b\b\b\b\b\b\b\b\b\b\b\b\b\b\b\b\b\b\b\b\b\b\b\b\b\b\b\b\b\b\b\b\b\b\b\b\b\b\b\b\b\b\b\b\b\b\b\b\b\b\b\b\b\b\b\b\b\b\b\b\b\b\b\b\b\b\b\b\b\b\b\b\b\b\b\b\b\b\b\b\r274/274 [==============================] - 715s 2s/step - loss: 1.8932 - accuracy: 0.4496 - val_loss: 1.3191 - val_accuracy: 0.6062 - lr: 0.0010\n",
            "Epoch 2/7\n",
            "274/274 [==============================] - ETA: 0s - loss: 1.2438 - accuracy: 0.6240\n",
            "Epoch 2: val_loss improved from 1.31912 to 1.23324, saving model to /content/drive/MyDrive/kqcv/hpduc8222_DenseNet201_best.hdf5\n",
            "274/274 [==============================] - 667s 2s/step - loss: 1.2438 - accuracy: 0.6240 - val_loss: 1.2332 - val_accuracy: 0.6362 - lr: 0.0010\n",
            "Epoch 3/7\n",
            "274/274 [==============================] - ETA: 0s - loss: 1.0854 - accuracy: 0.6700\n",
            "Epoch 3: val_loss improved from 1.23324 to 0.97628, saving model to /content/drive/MyDrive/kqcv/hpduc8222_DenseNet201_best.hdf5\n",
            "274/274 [==============================] - 637s 2s/step - loss: 1.0854 - accuracy: 0.6700 - val_loss: 0.9763 - val_accuracy: 0.6919 - lr: 0.0010\n",
            "Epoch 4/7\n",
            "274/274 [==============================] - ETA: 0s - loss: 0.9780 - accuracy: 0.7057\n",
            "Epoch 4: val_loss improved from 0.97628 to 0.96540, saving model to /content/drive/MyDrive/kqcv/hpduc8222_DenseNet201_best.hdf5\n",
            "274/274 [==============================] - 632s 2s/step - loss: 0.9780 - accuracy: 0.7057 - val_loss: 0.9654 - val_accuracy: 0.7131 - lr: 0.0010\n",
            "Epoch 5/7\n",
            "274/274 [==============================] - ETA: 0s - loss: 0.9220 - accuracy: 0.7228\n",
            "Epoch 5: val_loss improved from 0.96540 to 0.94715, saving model to /content/drive/MyDrive/kqcv/hpduc8222_DenseNet201_best.hdf5\n",
            "274/274 [==============================] - 631s 2s/step - loss: 0.9220 - accuracy: 0.7228 - val_loss: 0.9472 - val_accuracy: 0.7175 - lr: 0.0010\n",
            "Epoch 6/7\n",
            "274/274 [==============================] - ETA: 0s - loss: 0.8782 - accuracy: 0.7347\n",
            "Epoch 6: val_loss did not improve from 0.94715\n",
            "274/274 [==============================] - 626s 2s/step - loss: 0.8782 - accuracy: 0.7347 - val_loss: 1.0979 - val_accuracy: 0.6887 - lr: 0.0010\n",
            "Epoch 7/7\n",
            "274/274 [==============================] - ETA: 0s - loss: 0.6040 - accuracy: 0.8150\n",
            "Epoch 7: val_loss improved from 0.94715 to 0.81940, saving model to /content/drive/MyDrive/kqcv/hpduc8222_DenseNet201_best.hdf5\n",
            "274/274 [==============================] - 639s 2s/step - loss: 0.6040 - accuracy: 0.8150 - val_loss: 0.8194 - val_accuracy: 0.7732 - lr: 2.0000e-04\n"
          ]
        }
      ],
      "source": [
        "history = model.fit(\n",
        "    generated_train_data,\n",
        "    validation_data = generated_validate_data,\n",
        "    validation_steps = generated_validate_data.n // BATCH_SIZE,\n",
        "    steps_per_epoch = generated_train_data.n // BATCH_SIZE,\n",
        "    callbacks = [base_checkpointer, early_stopping, relu_cb],\n",
        "    epochs = INITIAL_EPOCHS,\n",
        "    verbose = 1,\n",
        ")\n",
        "model.save(BASE_MODEL_TRAINED)\n",
        "model.save_weights(Weight_MODEL_TRAINED)"
      ]
    },
    {
      "cell_type": "code",
      "execution_count": null,
      "metadata": {
        "id": "TvnLcjhAMt4m"
      },
      "outputs": [],
      "source": [
        "acc = history.history['accuracy']\n",
        "loss = history.history['loss']\n",
        "val_acc = history.history['val_accuracy']\n",
        "val_loss = history.history['val_loss']"
      ]
    },
    {
      "cell_type": "code",
      "execution_count": null,
      "metadata": {
        "colab": {
          "base_uri": "https://localhost:8080/",
          "height": 340
        },
        "id": "OIsHwHVk3yWm",
        "outputId": "a3c6df46-2998-4c6e-888f-c744d3f42ce3"
      },
      "outputs": [
        {
          "data": {
            "image/png": "[encoded data removed]",
            "text/plain": [
              "<Figure size 2000x500 with 2 Axes>"
            ]
          },
          "metadata": {},
          "output_type": "display_data"
        }
      ],
      "source": [
        "plt.figure(figsize=(20, 5))\n",
        "plt.subplot(1, 2, 1)\n",
        "plt.plot(acc, label='Training Accuracy')\n",
        "plt.plot(val_acc, label='Validation Accuracy')\n",
        "plt.legend(loc='lower right')\n",
        "plt.ylabel('Accuracy')\n",
        "plt.ylim([min(plt.ylim()), 1])\n",
        "plt.title('Training and Validation Accuracy')\n",
        "\n",
        "plt.subplot(1, 2, 2)\n",
        "plt.plot(loss, label='Training Loss')\n",
        "plt.plot(val_loss, label='Validation Loss')\n",
        "plt.legend(loc='upper right')\n",
        "plt.ylabel('Cross Entropy')\n",
        "plt.ylim([min(plt.ylim()), max(plt.ylim())])\n",
        "plt.title('Training and Validation Loss')\n",
        "plt.xlabel('epoch')\n",
        "plt.savefig(BASE_MODEL_FIG)\n",
        "plt.show()"
      ]
    },
    {
      "cell_type": "markdown",
      "metadata": {
        "id": "o__Nz-Wbl1jW"
      },
      "source": [
        "# Evaluation"
      ]
    },
    {
      "cell_type": "code",
      "execution_count": null,
      "metadata": {
        "colab": {
          "base_uri": "https://localhost:8080/"
        },
        "id": "obJpFrio7Nye",
        "outputId": "23229fa0-3a80-40c4-99e1-66278d82cdf2"
      },
      "outputs": [
        {
          "name": "stdout",
          "output_type": "stream",
          "text": [
            "158/158 [==============================] - 105s 593ms/step - loss: 0.8120 - accuracy: 0.7724\n",
            "Test accuracy: 0.7724206447601318\n"
          ]
        }
      ],
      "source": [
        "loss, accuracy = model.evaluate(generated_test_data)\n",
        "print('Test accuracy:', accuracy)"
      ]
    }
  ],
  "metadata": {
    "accelerator": "GPU",
    "colab": {
      "machine_shape": "hm",
      "provenance": []
    },
    "kernelspec": {
      "display_name": "Python 3",
      "language": "python",
      "name": "python3"
    },
    "language_info": {
      "codemirror_mode": {
        "name": "ipython",
        "version": 3
      },
      "file_extension": ".py",
      "mimetype": "text/x-python",
      "name": "python",
      "nbconvert_exporter": "python",
      "pygments_lexer": "ipython3",
      "version": "3.8.10"
    },
    "toc": {
      "base_numbering": 1,
      "nav_menu": {},
      "number_sections": true,
      "sideBar": true,
      "skip_h1_title": false,
      "title_cell": "Table of Contents",
      "title_sidebar": "Contents",
      "toc_cell": false,
      "toc_position": {},
      "toc_section_display": true,
      "toc_window_display": false
    }
  },
  "nbformat": 4,
  "nbformat_minor": 0
}
