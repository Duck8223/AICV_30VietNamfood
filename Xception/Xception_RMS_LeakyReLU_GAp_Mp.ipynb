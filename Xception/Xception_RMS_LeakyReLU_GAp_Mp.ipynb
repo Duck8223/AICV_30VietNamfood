{
  "cells": [
    {
      "cell_type": "code",
      "execution_count": null,
      "metadata": {
        "id": "7fySQ-xR0UQl"
      },
      "outputs": [],
      "source": [
        "# import tensorflow as tf\n",
        "# import matplotlib.pyplot as plt\n",
        "# import h5py\n",
        "\n",
        "# tf.get_logger().setLevel('ERROR')\n",
        "# !curl -s https://raw.githubusercontent.com/sivel/speedtest-cli/master/speedtest.py | python -"
      ]
    },
    {
      "cell_type": "markdown",
      "metadata": {
        "id": "ctWb-L9j3yWg"
      },
      "source": [
        "# Import dataset"
      ]
    },
    {
      "cell_type": "code",
      "execution_count": null,
      "metadata": {
        "colab": {
          "base_uri": "https://localhost:8080/"
        },
        "id": "nj0pXbq3_3tz",
        "outputId": "0e611dc8-b385-43b8-bfd3-c777ebad2f54"
      },
      "outputs": [
        {
          "name": "stdout",
          "output_type": "stream",
          "text": [
            "Mounted at /content/drive\n"
          ]
        }
      ],
      "source": [
        "# from google.colab import drive\n",
        "# drive.mount('/content/drive')"
      ]
    },
    {
      "cell_type": "code",
      "execution_count": null,
      "metadata": {
        "id": "9ckbbiM3BY3I"
      },
      "outputs": [],
      "source": [
        "import os\n",
        "import tensorflow as tf\n",
        "import matplotlib.pyplot as plt\n",
        "import h5py\n",
        "from tensorflow.keras.preprocessing.image import ImageDataGenerator\n",
        "from tensorflow.keras.applications import Xception\n",
        "from tensorflow.keras.layers import GlobalAveragePooling2D, Dense, Dropout, Input,MaxPooling2D, LeakyReLU\n",
        "from tensorflow.keras.models import Model\n",
        "from tensorflow.keras.callbacks import EarlyStopping, ModelCheckpoint,ReduceLROnPlateau\n",
        "from tensorflow.keras.optimizers import RMSprop"
      ]
    },
    {
      "cell_type": "code",
      "execution_count": null,
      "metadata": {
        "colab": {
          "base_uri": "https://localhost:8080/"
        },
        "id": "WatJhyRp3yWg",
        "outputId": "0434067a-ba2c-4783-e944-05b19e90d433"
      },
      "outputs": [],
      "source": [
        "path = '/content/drive/MyDrive'\n",
        "os.chdir(path)"
      ]
    },
    {
      "cell_type": "code",
      "execution_count": null,
      "metadata": {
        "id": "Hu5djSU43yWg"
      },
      "outputs": [],
      "source": [
        "# Move dataset to /tmp cause reading files from Drive is very slow\n",
        "!cp vietnamese-foods.zip /tmp\n",
        "!unzip -q /tmp/vietnamese-foods.zip -d /tmp"
      ]
    },
    {
      "cell_type": "markdown",
      "metadata": {
        "id": "8PbvhOfb6x6o"
      },
      "source": [
        "# Setup path"
      ]
    },
    {
      "cell_type": "code",
      "execution_count": null,
      "metadata": {
        "id": "TBs9QVym6zYz"
      },
      "outputs": [],
      "source": [
        "TRAIN_PATH = '/tmp/Images/Train'\n",
        "VALIDATE_PATH = '/tmp/Images/Validate'\n",
        "TEST_PATH = '/tmp/Images/Test'"
      ]
    },
    {
      "cell_type": "code",
      "execution_count": null,
      "metadata": {
        "id": "K_g6h0OW60X_"
      },
      "outputs": [],
      "source": [
        "PATH = '/content/drive/MyDrive/kqcv'\n",
        "\n",
        "BASE_MODEL_BEST = os.path.join(PATH, '21022015_Xception_best.hdf5')\n",
        "BASE_MODEL_TRAINED = os.path.join(PATH, '210220154_Xception.hdf5')\n",
        "Weight_MODEL_TRAINED = os.path.join(PATH, '210220154_Xception_weight.hdf5')\n",
        "BASE_MODEL_FIG = os.path.join(PATH, '210220154_Xception_fig.jpg')"
      ]
    },
    {
      "cell_type": "markdown",
      "metadata": {
        "id": "Dt8mtwjLlFii"
      },
      "source": [
        "# Preparing data"
      ]
    },
    {
      "cell_type": "code",
      "execution_count": null,
      "metadata": {
        "id": "YrUH6HT06_N7"
      },
      "outputs": [],
      "source": [
        "IMAGE_SIZE = (300, 300)\n",
        "BATCH_SIZE = 64"
      ]
    },
    {
      "cell_type": "code",
      "execution_count": null,
      "metadata": {
        "id": "_-_wF6-g7AnR"
      },
      "outputs": [],
      "source": [
        "\n",
        "train_generator = ImageDataGenerator(\n",
        "    rescale = 1./255,\n",
        "    rotation_range = 20,\n",
        "    # width_shift_range = 0.1,\n",
        "    # height_shift_range = 0.1,\n",
        "    shear_range = 0.1,\n",
        "    zoom_range = 0.2,\n",
        "    horizontal_flip = True,\n",
        "\n",
        ")\n",
        "validate_generator = ImageDataGenerator(rescale=1./255)\n",
        "test_generator = ImageDataGenerator(rescale=1./255)"
      ]
    },
    {
      "cell_type": "code",
      "execution_count": null,
      "metadata": {
        "colab": {
          "base_uri": "https://localhost:8080/"
        },
        "id": "opfyTGQAb-wE",
        "outputId": "8879265e-2bc3-454c-dfe1-3401dc3d9b52"
      },
      "outputs": [
        {
          "name": "stdout",
          "output_type": "stream",
          "text": [
            "Found 17581 images belonging to 30 classes.\n",
            "Found 2515 images belonging to 30 classes.\n",
            "Found 5040 images belonging to 30 classes.\n"
          ]
        }
      ],
      "source": [
        "generated_train_data = train_generator.flow_from_directory(TRAIN_PATH, target_size=IMAGE_SIZE, batch_size=BATCH_SIZE)\n",
        "generated_validate_data = validate_generator.flow_from_directory(VALIDATE_PATH, target_size=IMAGE_SIZE, batch_size=BATCH_SIZE)\n",
        "generated_test_data = test_generator.flow_from_directory(TEST_PATH, target_size=IMAGE_SIZE)"
      ]
    },
    {
      "cell_type": "markdown",
      "metadata": {
        "id": "AnHKGG76uu67"
      },
      "source": [
        "# Model implement"
      ]
    },
    {
      "cell_type": "code",
      "execution_count": null,
      "metadata": {
        "id": "LJNzUVxP7BvF"
      },
      "outputs": [],
      "source": [
        "CLASSES = 30\n",
        "INITIAL_EPOCHS = 9"
      ]
    },
    {
      "cell_type": "markdown",
      "metadata": {
        "id": "fjn_OsMvxoMj"
      },
      "source": [
        "## Define the model"
      ]
    },
    {
      "cell_type": "code",
      "execution_count": null,
      "metadata": {
        "colab": {
          "base_uri": "https://localhost:8080/"
        },
        "id": "Rsunp70veV2j",
        "outputId": "f610f944-effe-4828-e8e4-4e7f8a92c08f"
      },
      "outputs": [
        {
          "name": "stdout",
          "output_type": "stream",
          "text": [
            "Downloading data from https://storage.googleapis.com/tensorflow/keras-applications/xception/xception_weights_tf_dim_ordering_tf_kernels_notop.h5\n",
            "83683744/83683744 [==============================] - 1s 0us/step\n"
          ]
        }
      ],
      "source": [
        "input_layer = Input(shape=(300, 300, 3))\n",
        "pretrained_model = Xception(weights='imagenet', include_top=False, input_tensor=input_layer)\n",
        "last_output = pretrained_model.output\n",
        "x = MaxPooling2D(pool_size=(2, 2))(last_output)\n",
        "x = GlobalAveragePooling2D()(last_output)\n",
        "x = Dense(1024)(x)\n",
        "x = LeakyReLU(alpha=0.1)(x)\n",
        "x = Dropout(0.2)(x)\n",
        "x = Dense(512)(x)\n",
        "x = LeakyReLU(alpha=0.1)(x)\n",
        "x = Dropout(0.2)(x)\n",
        "\n",
        "\n",
        "outputs = Dense(CLASSES, activation='softmax')(x)\n",
        "model = Model(inputs=pretrained_model.input, outputs=outputs)"
      ]
    },
    {
      "cell_type": "markdown",
      "metadata": {
        "id": "02WLrrF1xqb4"
      },
      "source": [
        "## Callbacks"
      ]
    },
    {
      "cell_type": "code",
      "execution_count": null,
      "metadata": {
        "id": "db8Tg97jrVqP"
      },
      "outputs": [],
      "source": [
        "optimizer = RMSprop(learning_rate=0.001, rho=0.9, epsilon=1e-07)\n",
        "base_checkpointer = ModelCheckpoint(\n",
        "    filepath = BASE_MODEL_BEST,\n",
        "    save_best_only = True,\n",
        "    verbose = 1\n",
        ")\n",
        "\n",
        "# fine_tune_checkpointer = ModelCheckpoint(\n",
        "#     filepath = FINE_TUNE_MODEL_BEST,\n",
        "#     save_best_only = True,\n",
        "#     verbose = 1,\n",
        "# )\n",
        "\n",
        "# Stop if no improvement after 2 epochs\n",
        "early_stopping = EarlyStopping(monitor='val_loss', patience=2, verbose=1)\n",
        "relu_cb= ReduceLROnPlateau(monitor='val_loss', factor=0.2, patience=1, min_lr=0.0001)"
      ]
    },
    {
      "cell_type": "markdown",
      "metadata": {
        "id": "Hb6-rA95mdCh"
      },
      "source": [
        "## Stage 1: Transfer learning"
      ]
    },
    {
      "cell_type": "code",
      "execution_count": null,
      "metadata": {
        "id": "7f7ri9GgvqSC"
      },
      "outputs": [],
      "source": [
        "for layer in pretrained_model.layers: layer.trainable = False\n",
        "model.compile(optimizer=optimizer, loss='categorical_crossentropy', metrics=['accuracy'])"
      ]
    },
    {
      "cell_type": "code",
      "execution_count": null,
      "metadata": {
        "colab": {
          "base_uri": "https://localhost:8080/"
        },
        "id": "tumbgjkn7Eaq",
        "outputId": "100c4cf8-486f-4092-e9b6-a4bde7a8d084"
      },
      "outputs": [
        {
          "name": "stdout",
          "output_type": "stream",
          "text": [
            "Epoch 1/9\n",
            "274/274 [==============================] - ETA: 0s - loss: 1.7366 - accuracy: 0.4808\n",
            "Epoch 1: val_loss improved from inf to 1.34729, saving model to /content/drive/MyDrive/kqcv/21022015_Xception_best.hdf5\n"
          ]
        },
        {
          "name": "stderr",
          "output_type": "stream",
          "text": [
            "/usr/local/lib/python3.10/dist-packages/keras/src/engine/training.py:3103: UserWarning: You are saving your model as an HDF5 file via `model.save()`. This file format is considered legacy. We recommend using instead the native Keras format, e.g. `model.save('my_model.keras')`.\n",
            "  saving_api.save_model(\n"
          ]
        },
        {
          "name": "stdout",
          "output_type": "stream",
          "text": [
            "\b\b\b\b\b\b\b\b\b\b\b\b\b\b\b\b\b\b\b\b\b\b\b\b\b\b\b\b\b\b\b\b\b\b\b\b\b\b\b\b\b\b\b\b\b\b\b\b\b\b\b\b\b\b\b\b\b\b\b\b\b\b\b\b\b\b\b\b\b\b\b\b\b\b\b\b\b\b\b\b\b\b\b\b\r274/274 [==============================] - 675s 2s/step - loss: 1.7366 - accuracy: 0.4808 - val_loss: 1.3473 - val_accuracy: 0.5893 - lr: 0.0010\n",
            "Epoch 2/9\n",
            "274/274 [==============================] - ETA: 0s - loss: 1.2632 - accuracy: 0.6159\n",
            "Epoch 2: val_loss improved from 1.34729 to 1.19785, saving model to /content/drive/MyDrive/kqcv/21022015_Xception_best.hdf5\n",
            "274/274 [==============================] - 634s 2s/step - loss: 1.2632 - accuracy: 0.6159 - val_loss: 1.1978 - val_accuracy: 0.6470 - lr: 0.0010\n",
            "Epoch 3/9\n",
            "274/274 [==============================] - ETA: 0s - loss: 1.1297 - accuracy: 0.6519\n",
            "Epoch 3: val_loss improved from 1.19785 to 1.16805, saving model to /content/drive/MyDrive/kqcv/21022015_Xception_best.hdf5\n",
            "274/274 [==============================] - 630s 2s/step - loss: 1.1297 - accuracy: 0.6519 - val_loss: 1.1681 - val_accuracy: 0.6506 - lr: 0.0010\n",
            "Epoch 4/9\n",
            "274/274 [==============================] - ETA: 0s - loss: 1.0575 - accuracy: 0.6784\n",
            "Epoch 4: val_loss improved from 1.16805 to 1.16414, saving model to /content/drive/MyDrive/kqcv/21022015_Xception_best.hdf5\n",
            "274/274 [==============================] - 639s 2s/step - loss: 1.0575 - accuracy: 0.6784 - val_loss: 1.1641 - val_accuracy: 0.6611 - lr: 0.0010\n",
            "Epoch 5/9\n",
            "274/274 [==============================] - ETA: 0s - loss: 0.9811 - accuracy: 0.7029\n",
            "Epoch 5: val_loss improved from 1.16414 to 1.11049, saving model to /content/drive/MyDrive/kqcv/21022015_Xception_best.hdf5\n",
            "274/274 [==============================] - 642s 2s/step - loss: 0.9811 - accuracy: 0.7029 - val_loss: 1.1105 - val_accuracy: 0.6795 - lr: 0.0010\n",
            "Epoch 6/9\n",
            "274/274 [==============================] - ETA: 0s - loss: 0.9309 - accuracy: 0.7168\n",
            "Epoch 6: val_loss did not improve from 1.11049\n",
            "274/274 [==============================] - 648s 2s/step - loss: 0.9309 - accuracy: 0.7168 - val_loss: 1.1382 - val_accuracy: 0.6719 - lr: 0.0010\n",
            "Epoch 7/9\n",
            "274/274 [==============================] - ETA: 0s - loss: 0.7126 - accuracy: 0.7807\n",
            "Epoch 7: val_loss improved from 1.11049 to 1.01134, saving model to /content/drive/MyDrive/kqcv/21022015_Xception_best.hdf5\n",
            "274/274 [==============================] - 650s 2s/step - loss: 0.7126 - accuracy: 0.7807 - val_loss: 1.0113 - val_accuracy: 0.7248 - lr: 2.0000e-04\n",
            "Epoch 8/9\n",
            "274/274 [==============================] - ETA: 0s - loss: 0.6625 - accuracy: 0.7963\n",
            "Epoch 8: val_loss did not improve from 1.01134\n",
            "274/274 [==============================] - 649s 2s/step - loss: 0.6625 - accuracy: 0.7963 - val_loss: 1.0133 - val_accuracy: 0.7280 - lr: 2.0000e-04\n",
            "Epoch 9/9\n",
            "274/274 [==============================] - ETA: 0s - loss: 0.6185 - accuracy: 0.8092\n",
            "Epoch 9: val_loss improved from 1.01134 to 1.00688, saving model to /content/drive/MyDrive/kqcv/21022015_Xception_best.hdf5\n",
            "274/274 [==============================] - 644s 2s/step - loss: 0.6185 - accuracy: 0.8092 - val_loss: 1.0069 - val_accuracy: 0.7276 - lr: 1.0000e-04\n"
          ]
        }
      ],
      "source": [
        "history = model.fit(\n",
        "    generated_train_data,\n",
        "    validation_data = generated_validate_data,\n",
        "    validation_steps = generated_validate_data.n // BATCH_SIZE,\n",
        "    steps_per_epoch = generated_train_data.n // BATCH_SIZE,\n",
        "    callbacks = [base_checkpointer, early_stopping, relu_cb],\n",
        "    epochs = INITIAL_EPOCHS,\n",
        "    verbose = 1,\n",
        ")\n",
        "model.save(BASE_MODEL_TRAINED)\n",
        "model.save_weights(Weight_MODEL_TRAINED)"
      ]
    },
    {
      "cell_type": "code",
      "execution_count": null,
      "metadata": {
        "id": "TvnLcjhAMt4m"
      },
      "outputs": [],
      "source": [
        "acc = history.history['accuracy']\n",
        "loss = history.history['loss']\n",
        "val_acc = history.history['val_accuracy']\n",
        "val_loss = history.history['val_loss']"
      ]
    },
    {
      "cell_type": "code",
      "execution_count": null,
      "metadata": {
        "colab": {
          "base_uri": "https://localhost:8080/",
          "height": 204
        },
        "id": "OIsHwHVk3yWm",
        "outputId": "e0ec73ba-70e2-4712-afec-00375f95f21c"
      },
      "outputs": [
        {
          "data": {
            "image/png": "[encoded data removed]",
            "text/plain": [
              "<Figure size 2000x500 with 2 Axes>"
            ]
          },
          "metadata": {},
          "output_type": "display_data"
        }
      ],
      "source": [
        "plt.figure(figsize=(20, 5))\n",
        "plt.subplot(1, 2, 1)\n",
        "plt.plot(acc, label='Training Accuracy')\n",
        "plt.plot(val_acc, label='Validation Accuracy')\n",
        "plt.legend(loc='lower right')\n",
        "plt.ylabel('Accuracy')\n",
        "plt.ylim([min(plt.ylim()), 1])\n",
        "plt.title('Training and Validation Accuracy')\n",
        "\n",
        "plt.subplot(1, 2, 2)\n",
        "plt.plot(loss, label='Training Loss')\n",
        "plt.plot(val_loss, label='Validation Loss')\n",
        "plt.legend(loc='upper right')\n",
        "plt.ylabel('Cross Entropy')\n",
        "plt.ylim([min(plt.ylim()), max(plt.ylim())])\n",
        "plt.title('Training and Validation Loss')\n",
        "plt.xlabel('epoch')\n",
        "plt.savefig(BASE_MODEL_FIG)\n",
        "plt.show()"
      ]
    },
    {
      "cell_type": "markdown",
      "metadata": {
        "id": "o__Nz-Wbl1jW"
      },
      "source": [
        "# Evaluation"
      ]
    },
    {
      "cell_type": "code",
      "execution_count": null,
      "metadata": {
        "colab": {
          "base_uri": "https://localhost:8080/"
        },
        "id": "obJpFrio7Nye",
        "outputId": "c4d021fa-3518-4e92-d4a8-03cb4148f8ad"
      },
      "outputs": [
        {
          "name": "stdout",
          "output_type": "stream",
          "text": [
            "158/158 [==============================] - 90s 534ms/step - loss: 0.9699 - accuracy: 0.7264\n",
            "Test accuracy: 0.7263888716697693\n"
          ]
        }
      ],
      "source": [
        "loss, accuracy = model.evaluate(generated_test_data)\n",
        "print('Test accuracy:', accuracy)"
      ]
    }
  ],
  "metadata": {
    "accelerator": "GPU",
    "colab": {
      "machine_shape": "hm",
      "provenance": []
    },
    "kernelspec": {
      "display_name": "Python 3",
      "language": "python",
      "name": "python3"
    },
    "language_info": {
      "codemirror_mode": {
        "name": "ipython",
        "version": 3
      },
      "file_extension": ".py",
      "mimetype": "text/x-python",
      "name": "python",
      "nbconvert_exporter": "python",
      "pygments_lexer": "ipython3",
      "version": "3.8.10"
    },
    "toc": {
      "base_numbering": 1,
      "nav_menu": {},
      "number_sections": true,
      "sideBar": true,
      "skip_h1_title": false,
      "title_cell": "Table of Contents",
      "title_sidebar": "Contents",
      "toc_cell": false,
      "toc_position": {},
      "toc_section_display": true,
      "toc_window_display": false
    }
  },
  "nbformat": 4,
  "nbformat_minor": 0
}
